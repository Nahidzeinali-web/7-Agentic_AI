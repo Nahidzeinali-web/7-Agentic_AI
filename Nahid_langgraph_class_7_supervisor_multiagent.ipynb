{
 "cells": [
  {
   "cell_type": "code",
   "execution_count": 1,
   "id": "16a0c313",
   "metadata": {},
   "outputs": [
    {
     "name": "stdout",
     "output_type": "stream",
     "text": [
      "all ok\n"
     ]
    }
   ],
   "source": [
    "print(\"all ok\")"
   ]
  },
  {
   "cell_type": "code",
   "execution_count": 2,
   "id": "d329e568",
   "metadata": {},
   "outputs": [
    {
     "name": "stdout",
     "output_type": "stream",
     "text": [
      "France Capital: <think>\n",
      "\n",
      "</think>\n",
      "\n",
      "The capital of France is Paris.\n",
      "India Capital (Detailed): <think>\n",
      "Okay, so I need to figure out the capital of India and provide a detailed answer. Hmm, I think the capital is New Delhi, but I'm not entirely sure. Let me start by recalling what I know. India is a country in South Asia, and I remember that its capital isn't Mumbai or Bangalore, which are more known for business and technology. New Delhi sounds familiar, maybe because I've heard it in news or geography class.\n",
      "\n",
      "Now, I should think about why New Delhi is the capital. I think it's because of its historical significance. I remember something about the British Empire moving the capital from Calcutta to New Delhi. Oh, right, that was in 1911. They wanted a more central location, I guess. Then, in 1931, they officially made it the capital. After India gained independence in 1947, New Delhi stayed as the capital. That makes sense because it's a planned city with a lot of governmental buildings.\n",
      "\n",
      "I also remember that New Delhi is part of the National Capital Territory, which includes surrounding areas. It's not just a city but a union territory, which means it's governed directly by the federal government. That's different from other cities in India which are part of states.\n",
      "\n",
      "Thinking about the geography, New Delhi is in the north, near the Yamuna River. It has a mix of modern and historical architecture. I've heard of places like the Red Fort and Qutub Minar, which are historical sites. The Red Fort was built by the Mughal emperors, right? And Qutub Minar is one of the tallest minarets in the world. These landmarks make New Delhi culturally rich.\n",
      "\n",
      "The city is planned, with wide avenues and organized sectors, which I think was designed by British architects. It's a contrast to Old Delhi, which is more crowded and has narrow streets. The blend of old and new must give the city a unique character.\n",
      "\n",
      "Economically, New Delhi is a hub for various industries, including information technology, telecommunications, and tourism. Being the capital, it's home to government offices, embassies, and international organizations. This makes it an important center for both politics and business.\n",
      "\n",
      "Culturally, New Delhi is diverse. People from all over India live there, so you can find a variety of languages, religions, and cuisines. The city hosts many festivals and events, making it vibrant. The food scene must be amazing with different regional specialties available.\n",
      "\n",
      "Transportation-wise, New Delhi has a well-developed infrastructure. The metro system is efficient and connects many parts of the city. Indira Gandhi International Airport is a major hub, connecting India to the rest of the world. Roads are broad, and there's a lot of traffic, but the public transport helps manage that.\n",
      "\n",
      "Challenges in New Delhi include pollution, especially air quality issues during winter. There's also a lot of traffic congestion, which can make commuting difficult. Despite these challenges, the city continues to grow and develop, with initiatives to improve sustainability and public services.\n",
      "\n",
      "In summary, New Delhi is the capital of India, chosen for its strategic location and historical importance. It serves as the administrative and political heart of the country, with a rich cultural heritage and modern infrastructure. The city's blend of history and contemporary development makes it a unique and significant place in India.\n",
      "</think>\n",
      "\n",
      "The capital of India is New Delhi, a city steeped in history and modernity. Chosen as the capital in 1911 by the British Empire, it replaced Calcutta to provide a more central location, officially becoming the capital in 1931. Post-independence in 1947, it retained its status due to its strategic position and planned layout, designed by British architects. \n",
      "\n",
      "New Delhi is part of the National Capital Territory, governed directly by the federal government, distinguishing it from other Indian cities. Situated in northern India near the Yamuna River, it features a mix of historical landmarks like the Red Fort and Qutub Minar, showcasing its rich cultural heritage. The city's architecture contrasts the planned, modern sectors with the bustling, narrow streets of Old Delhi.\n",
      "\n",
      "As a political and economic hub, New Delhi hosts government offices, embassies, and international organizations, driving industries in IT, telecommunications, and tourism. Culturally diverse, it offers a vibrant mix of languages, religions, and cuisines. The city's efficient metro system and major international airport highlight its robust infrastructure, though it faces challenges like pollution and traffic congestion.\n",
      "\n",
      "In essence, New Delhi is India's administrative and cultural heart, blending historical significance with contemporary development.\n"
     ]
    }
   ],
   "source": [
    "# Import necessary libraries\n",
    "from dotenv import load_dotenv  # Loads environment variables from a .env file\n",
    "from langchain_groq import ChatGroq  # Groq LLM integration for LangChain\n",
    "\n",
    "# Load environment variables (e.g., API keys)\n",
    "load_dotenv()\n",
    "\n",
    "# Initialize the LLM with the specified model\n",
    "llm = ChatGroq(model=\"deepseek-r1-distill-llama-70b\")\n",
    "\n",
    "# Ask a simple question\n",
    "response_france = llm.invoke(\"What is the capital of France?\")\n",
    "print(\"France Capital:\", response_france.content)\n",
    "\n",
    "# Ask a more detailed question\n",
    "response_india = llm.invoke(\"What is the capital of India? Tell me in detail.\")\n",
    "print(\"India Capital (Detailed):\", response_india.content)\n"
   ]
  },
  {
   "cell_type": "code",
   "execution_count": null,
   "id": "2f3025e9",
   "metadata": {},
   "outputs": [
    {
     "data": {
      "text/plain": [
       "[{'title': 'Paris facts: the capital of France in history',\n",
       "  'url': 'https://home.adelphi.edu/~ca19535/page%204.html',\n",
       "  'content': 'page 4\\n\\n===============\\n\\nHomeSpainSydneySan FranciscoParisLas VegasMaui\\n\\n Paris, France\\n\\nImage 1\\n\\nParis facts: Paris, the capital of France\\n---------------------------------------------\\n\\nParis is the capital of France, the largest country of Europe with 550 000 km2 (65 millions inhabitants).\\n\\nParis has 2.234 million inhabitants end 2011. She is the core of Ile de France region (12 million people). [...] Before Paris, the capital of France was Lyon (under the Romans). Paris first became the capital of France in 508 under King Clovis. After centuries with no unique capital of France, Paris retrieved its status of capital of France under King Philippe Auguste, who reigned between 1180 and 1223. You can see remains of the Philippe August Paris walls in the passageway between the Louvre parking and Louvre Museum [...] Paris remained the capital of France until today, with one four year interruption. During German occupation (WW2 , 1940-1944), the capital of France was Vichy.\\n\\ngo to top\\n\\nReference:',\n",
       "  'score': 0.89166987},\n",
       " {'title': 'Paris - Wikipedia',\n",
       "  'url': 'https://en.wikipedia.org/wiki/Paris',\n",
       "  'content': 'As the capital of France, Paris is the seat of France\\'s national government. For the executive, the two chief officers each have their own official residences, which also serve as their offices. The President of the French Republic resides at the Élysée Palace.( The Prime Minister\\'s seat is at the Hôtel Matignon.( Government ministries are located in various parts of the city, many near the Hôtel Matignon.( [...] Appearance\\n\\nmove to sidebar hide\\n\\nCoordinates: 48°51′24″N 2°21′8″E / 48.85667°N 2.35222°E / 48.85667; 2.35222_region:FR-75C)\\n\\nImage 4: This is a good article. Click here for more information.\\n\\nImage 5: Page semi-protected\\n\\nFrom Wikipedia, the free encyclopedia\\n\\nCapital and largest city of France\\n\\nThis article is about the capital city of France. For other uses, see Paris (disambiguation) \"Paris (disambiguation)\"). [...] Paris (French pronunciation:( \"Help:IPA/French\")ⓘ) is the capital and largest city of France. With an estimated population of 2,048,472 residents in January 2025( in an area of more than 105 km 2 (41 sq mi),( Paris is the fourth-most populous city in the European Union and the 30th most densely populated city in the world in 2022.( Since the 17th century, Paris has been one of the world\\'s major centres of finance, diplomacy, commerce, culture, fashion, and gastronomy. Because of its leading',\n",
       "  'score': 0.8815438},\n",
       " {'title': 'France - Wikipedia',\n",
       "  'url': 'https://en.wikipedia.org/wiki/France',\n",
       "  'content': 'and its capital, largest city and main cultural and economic centre is Paris. [...] | France on the globe centred on Europe  Metropolitan France (European part of France) in Europe  France and its neighbors  Show France, its overseas territories and its exclusive economic zones  Location of France (blue or dark green) – in Europe (green & dark grey) – in the European Union (green) | |\\n| Capital and largest city | Paris 48°51′N 2°21′E\\ufeff / \\ufeff48.850°N 2.350°E\\ufeff / 48.850; 2.350_region:FR-75C) |\\n| Official language and national language | French | [...] France is a highly urbanised country, with its largest cities \"List of cities in France over 20,000 population (1999 census)\") (in terms of metropolitan area \"Functional area (France)\") population in 2021) being Paris (13,171,056 inh.), Lyon (2,308,818), Marseille (1,888,788), Lille (1,521,660), Toulouse (1,490,640), Bordeaux (1,393,764), Nantes (1,031,953), Strasbourg (864,993), Montpellier (823,120), and Rennes (771,320). (Note: since its 2020 revision of metropolitan area borders, INSEE',\n",
       "  'score': 0.7915799},\n",
       " {'title': 'Paris | Definition, Map, Population, Facts, & History - Britannica',\n",
       "  'url': 'https://www.britannica.com/place/Paris',\n",
       "  'content': 'Paris occupies a depression hollowed out by the Seine. The surrounding heights have elevations that vary from 430 feet (130 meters), at the butte of Montmartre in the north, to 85 feet (26 meters), in the Grenelle area in the southwest. The city is surrounded by great forests of beech and oak, called the “lungs of Paris,” as they help purify the air in the region.\\n\\n### Paris is the capital of what country?\\n\\nParis is the national capital of France.\\n\\n## News • [...] Paris, city and capital of France, situated in the north-central part of the country. People were living on the site of the present-day city, located along the Seine River some 233 miles (375 km) upstream from the river’s mouth on the English Channel (La Manche), by about 7600 bce. The modern city has spread from the island (the Île de la Cité) and far beyond both banks of the Seine.\\n\\nParis\\n\\nParis(more) [...] Paris; Eiffel Tower\\n\\nParis; Eiffel Tower\\nView of the Paris skyline from Montparnasse.\\n\\n(more)\\n\\n# Paris\\n\\nnational capital, France\\n\\nAsk the Chatbot a Question\\n\\nMore Actions\\n\\nPrint\\n\\nCite\\n\\nShare\\n\\nFeedback\\n\\nExternal Websites\\n\\nAlso known as: Lutetia\\n\\nWritten by\\n\\nBlake Ehrlich\\n\\nAuthor of Paris on the Seine; London on the Thames.\\n\\nBlake Ehrlich\\n,\\n\\nKimberly Daul',\n",
       "  'score': 0.78194773}]"
      ]
     },
     "execution_count": 4,
     "metadata": {},
     "output_type": "execute_result"
    }
   ],
   "source": [
    "# Import required libraries\n",
    "import os\n",
    "from langchain_community.tools.tavily_search import TavilySearchResults\n",
    "\n",
    "# Load the Tavily API key from environment variables\n",
    "TAVILY_API_KEY = os.getenv(\"TAVILY_API_KEY\")\n",
    "\n",
    "# Initialize the Tavily search tool with the API key\n",
    "search_tool = TavilySearchResults(tavily_api_key=TAVILY_API_KEY)\n",
    "\n",
    "# Perform a search query\n",
    "search_tool.invoke(\"What is the capital of France?\")"
   ]
  },
  {
   "cell_type": "code",
   "execution_count": 11,
   "id": "8503b501",
   "metadata": {},
   "outputs": [
    {
     "name": "stdout",
     "output_type": "stream",
     "text": [
      "Execution Output: 20\n",
      "\n"
     ]
    }
   ],
   "source": [
    "# Import the PythonREPL utility from LangChain Experimental\n",
    "from langchain_experimental.utilities import PythonREPL\n",
    "\n",
    "# Define the Python code to execute as a multi-line string\n",
    "my_code = \"\"\"\n",
    "x = 10\n",
    "y = x + 10\n",
    "print(y)\n",
    "\"\"\"\n",
    "\n",
    "# Initialize the REPL environment\n",
    "repl = PythonREPL()\n",
    "\n",
    "# Run the code and capture the output\n",
    "output = repl.run(my_code)\n",
    "\n",
    "# Print the output\n",
    "print(\"Execution Output:\", output)\n"
   ]
  },
  {
   "cell_type": "code",
   "execution_count": 8,
   "id": "790086cd",
   "metadata": {},
   "outputs": [
    {
     "ename": "AttributeError",
     "evalue": "'PythonREPL' object has no attribute 'invoke'",
     "output_type": "error",
     "traceback": [
      "\u001b[31m---------------------------------------------------------------------------\u001b[39m",
      "\u001b[31mAttributeError\u001b[39m                            Traceback (most recent call last)",
      "\u001b[36mCell\u001b[39m\u001b[36m \u001b[39m\u001b[32mIn[8]\u001b[39m\u001b[32m, line 1\u001b[39m\n\u001b[32m----> \u001b[39m\u001b[32m1\u001b[39m \u001b[43mrepl\u001b[49m\u001b[43m.\u001b[49m\u001b[43minvoke\u001b[49m(my_code)\n",
      "\u001b[36mFile \u001b[39m\u001b[32mc:\\Users\\Nahid\\OneDrive - Calmi2\\Desktop\\Agentic AI\\venv\\Lib\\site-packages\\pydantic\\main.py:991\u001b[39m, in \u001b[36mBaseModel.__getattr__\u001b[39m\u001b[34m(self, item)\u001b[39m\n\u001b[32m    988\u001b[39m     \u001b[38;5;28;01mreturn\u001b[39;00m \u001b[38;5;28msuper\u001b[39m().\u001b[34m__getattribute__\u001b[39m(item)  \u001b[38;5;66;03m# Raises AttributeError if appropriate\u001b[39;00m\n\u001b[32m    989\u001b[39m \u001b[38;5;28;01melse\u001b[39;00m:\n\u001b[32m    990\u001b[39m     \u001b[38;5;66;03m# this is the current error\u001b[39;00m\n\u001b[32m--> \u001b[39m\u001b[32m991\u001b[39m     \u001b[38;5;28;01mraise\u001b[39;00m \u001b[38;5;167;01mAttributeError\u001b[39;00m(\u001b[33mf\u001b[39m\u001b[33m'\u001b[39m\u001b[38;5;132;01m{\u001b[39;00m\u001b[38;5;28mtype\u001b[39m(\u001b[38;5;28mself\u001b[39m).\u001b[34m__name__\u001b[39m\u001b[38;5;132;01m!r}\u001b[39;00m\u001b[33m object has no attribute \u001b[39m\u001b[38;5;132;01m{\u001b[39;00mitem\u001b[38;5;132;01m!r}\u001b[39;00m\u001b[33m'\u001b[39m)\n",
      "\u001b[31mAttributeError\u001b[39m: 'PythonREPL' object has no attribute 'invoke'"
     ]
    }
   ],
   "source": [
    "repl.invoke(my_code)"
   ]
  },
  {
   "cell_type": "code",
   "execution_count": 10,
   "id": "13576e09",
   "metadata": {},
   "outputs": [
    {
     "name": "stdout",
     "output_type": "stream",
     "text": [
      "Successfully executed:\n",
      "```python\n",
      "x = 10\n",
      "y = x + 10\n",
      "print(y)\n",
      "```\n",
      "Stdout: 20\n",
      "\n"
     ]
    }
   ],
   "source": [
    "from typing import Annotated\n",
    "from langchain_core.tools import tool\n",
    "\n",
    "# Initialize the REPL environment\n",
    "repl = PythonREPL()\n",
    "\n",
    "@tool\n",
    "def python_repl_tool(code: Annotated[str, \"The Python code to execute to generate your chart.\"]):\n",
    "    \"\"\"\n",
    "    Executes arbitrary Python code in a REPL-like environment.\n",
    "    Use this to perform calculations or generate outputs.\n",
    "    Remember: Use `print(...)` to see the output.\n",
    "    \"\"\"\n",
    "    try:\n",
    "        result = repl.run(code)\n",
    "    except BaseException as e:\n",
    "        return f\"Failed to execute. Error: {repr(e)}\"\n",
    "    \n",
    "    result_str = f\"Successfully executed:\\n```python\\n{code}\\n```\\nStdout: {result}\"\n",
    "    return result_str\n",
    "\n",
    "# Example execution\n",
    "print(python_repl_tool.invoke(\"x = 10\\ny = x + 10\\nprint(y)\"))\n"
   ]
  },
  {
   "cell_type": "markdown",
   "id": "e78c0cad",
   "metadata": {},
   "source": [
    "### WE HAVE TWO SUB AGENT \n",
    "1. RESEARCHER- internet\n",
    "2. CODER- executing the code"
   ]
  },
  {
   "cell_type": "markdown",
   "id": "8049ed75",
   "metadata": {},
   "source": [
    "## There is no routing logic\n",
    "### it is simply going to return the next candidate(next_agent)\n",
    "### this next is containig the next candidate name"
   ]
  },
  {
   "cell_type": "code",
   "execution_count": 18,
   "id": "72d958d1",
   "metadata": {},
   "outputs": [
    {
     "data": {
      "text/plain": [
       "[{'role': 'system',\n",
       "  'content': '\\nYou are a supervisor, tasked with managing a conversation between the following workers: researcher, coder.\\nGiven the following user request, respond with the worker to act next.\\nEach worker will perform a task and respond with their results and status.\\nWhen finished, respond with FINISH.\\n'},\n",
       " {'role': 'user', 'content': 'hi'}]"
      ]
     },
     "execution_count": 18,
     "metadata": {},
     "output_type": "execute_result"
    }
   ],
   "source": [
    "from typing import Literal\n",
    "from typing_extensions import TypedDict\n",
    "from langgraph.graph import MessagesState, StateGraph, START, END\n",
    "\n",
    "# Define members of the multi-agent system\n",
    "members = [\"researcher\", \"coder\"]\n",
    "options = members + [\"FINISH\"]\n",
    "\n",
    "# Define the router's output format with constrained values\n",
    "class Router(TypedDict):\n",
    "    next: Literal['researcher', 'coder', 'FINISH']\n",
    "\n",
    "# Extend MessagesState with a routing string\n",
    "class State(MessagesState):\n",
    "    next: str\n",
    "\n",
    "# Initialize the state with a sample user message\n",
    "state: State = {\n",
    "    \"messages\": [{\"role\": \"user\", \"content\": \"hi\"}],\n",
    "    \"next\": \"researcher\"  # must match Literal values: researcher/coder/FINISH\n",
    "}\n",
    "\n",
    "# Define a prompt for the supervisor to decide the next agent\n",
    "system_prompt = f\"\"\"\n",
    "You are a supervisor, tasked with managing a conversation between the following workers: {', '.join(members)}.\n",
    "Given the following user request, respond with the worker to act next.\n",
    "Each worker will perform a task and respond with their results and status.\n",
    "When finished, respond with FINISH.\n",
    "\"\"\"\n",
    "\n",
    "# Combine the system prompt with current conversation messages\n",
    "messages = [{\"role\": \"system\", \"content\": system_prompt}] + state[\"messages\"]\n",
    "messages\n"
   ]
  },
  {
   "cell_type": "code",
   "execution_count": 19,
   "id": "b57bfa60",
   "metadata": {},
   "outputs": [],
   "source": [
    "llm_with_structure_output=llm.with_structured_output(Router)"
   ]
  },
  {
   "cell_type": "code",
   "execution_count": 20,
   "id": "1625b431",
   "metadata": {},
   "outputs": [
    {
     "data": {
      "text/plain": [
       "{'next': 'researcher'}"
      ]
     },
     "execution_count": 20,
     "metadata": {},
     "output_type": "execute_result"
    }
   ],
   "source": [
    "llm_with_structure_output.invoke(messages)"
   ]
  },
  {
   "cell_type": "markdown",
   "id": "e0550e25",
   "metadata": {},
   "source": [
    "#### you can try out with this prompt also"
   ]
  },
  {
   "cell_type": "code",
   "execution_count": null,
   "id": "771b69cf",
   "metadata": {},
   "outputs": [],
   "source": [
    "# system_prompt = f\"\"\"\n",
    "# You are a supervisor managing a task delegation system with the following workers: {members}.\n",
    "\n",
    "# Your job is to decide which worker should act next based on the user’s input.\n",
    "\n",
    "# Guidelines:\n",
    "# - Carefully read the user’s message.\n",
    "# - If the message clearly requires a specific action (e.g., search, compute, rewrite), assign it to the appropriate worker.\n",
    "# - If the message is general, conversational, or does **not** require any specific action, immediately respond with `FINISH`.\n",
    "# - Do **not** invent tasks or assign actions unless the message clearly demands it.\n",
    "\n",
    "# Each worker will return results after completing their task.\n",
    "# Once all necessary tasks are completed, end the flow by responding with `FINISH`.\n",
    "\n",
    "# Be strict — if the message is casual, rhetorical, or lacks a clear task, reply with `FINISH`.\n",
    "# \"\"\"\n"
   ]
  },
  {
   "cell_type": "markdown",
   "id": "f5679fab",
   "metadata": {},
   "source": [
    "#### This is my all three agents"
   ]
  },
  {
   "cell_type": "code",
   "execution_count": 21,
   "id": "a9dd8853",
   "metadata": {},
   "outputs": [],
   "source": [
    "from langgraph.types import Command\n",
    "from langgraph.prebuilt import create_react_agent\n",
    "from langchain_core.messages import AIMessage, HumanMessage\n",
    "from typing import Literal\n",
    "\n",
    "# --- Supervisor Node ---\n",
    "def supervisor_agent(state: State) -> Command[Literal['researcher', 'coder', '__end__']]:\n",
    "    # Construct message history with system prompt\n",
    "    messages = [{\"role\": \"system\", \"content\": system_prompt}] + state[\"messages\"]\n",
    "\n",
    "    # Use LLM with structured output (TypedDict Router)\n",
    "    llm_with_structure_output = llm.with_structured_output(Router)\n",
    "    response = llm_with_structure_output.invoke(messages)\n",
    "\n",
    "    # Example: {'next': 'researcher'}\n",
    "    goto = response[\"next\"]\n",
    "    print(\"********** GOTO **********\")\n",
    "    print(goto)\n",
    "\n",
    "    if goto == \"FINISH\":\n",
    "        goto = END  # Maps FINISH to LangGraph's special END node\n",
    "\n",
    "    return Command(\n",
    "        goto=goto,\n",
    "        update={\"next\": goto}\n",
    "    )\n",
    "\n",
    "# --- Researcher Agent Node ---\n",
    "def research_agent(state: State) -> Command[Literal[\"supervisor\"]]:\n",
    "    research_agent = create_react_agent(\n",
    "        llm,\n",
    "        tools=[search_tool],\n",
    "        prompt=\"You are a researcher. DO NOT do any math.\"\n",
    "    )\n",
    "\n",
    "    result = research_agent.invoke(state)\n",
    "\n",
    "    return Command(\n",
    "        update={\n",
    "            \"messages\": [\n",
    "                HumanMessage(\n",
    "                    content=result[\"messages\"][-1].content,\n",
    "                    name=\"researcher\"\n",
    "                )\n",
    "            ]\n",
    "        },\n",
    "        goto=\"supervisor\"\n",
    "    )\n",
    "\n",
    "# --- Coder Agent Node ---\n",
    "def coder_agent(state: State) -> Command[Literal[\"supervisor\"]]:\n",
    "    code_agent = create_react_agent(\n",
    "        llm,\n",
    "        tools=[python_repl_tool],\n",
    "        prompt=\"You are a coder. DO NOT do any research.\"\n",
    "    )\n",
    "\n",
    "    result = code_agent.invoke(state)\n",
    "\n",
    "    return Command(\n",
    "        update={\n",
    "            \"messages\": [\n",
    "                HumanMessage(\n",
    "                    content=result[\"messages\"][-1].content,\n",
    "                    name=\"coder\"\n",
    "                )\n",
    "            ]\n",
    "        },\n",
    "        goto=\"supervisor\"\n",
    "    )"
   ]
  },
  {
   "cell_type": "markdown",
   "id": "beb7d161",
   "metadata": {},
   "source": [
    "#### this is my orchestration flow with langgraph"
   ]
  },
  {
   "cell_type": "code",
   "execution_count": 22,
   "id": "626bb385",
   "metadata": {},
   "outputs": [
    {
     "data": {
      "image/png": "[encoded data removed]",
      "text/plain": [
       "<IPython.core.display.Image object>"
      ]
     },
     "metadata": {},
     "output_type": "display_data"
    }
   ],
   "source": [
    "from IPython.display import display, Image\n",
    "from langgraph.graph import StateGraph, START, END\n",
    "\n",
    "# Define the graph structure\n",
    "graph = StateGraph(State)\n",
    "\n",
    "# Add nodes (functions already defined earlier)\n",
    "graph.add_node(\"supervisor\", supervisor_agent)\n",
    "graph.add_node(\"researcher\", research_agent)\n",
    "graph.add_node(\"coder\", coder_agent)\n",
    "\n",
    "# Set the entry point\n",
    "graph.add_edge(START, \"supervisor\")\n",
    "\n",
    "# Add conditional transitions from supervisor based on `state[\"next\"]`\n",
    "graph.add_conditional_edges(\"supervisor\", lambda state: state[\"next\"])\n",
    "\n",
    "# Return flow from workers to supervisor\n",
    "graph.add_edge(\"researcher\", \"supervisor\")\n",
    "graph.add_edge(\"coder\", \"supervisor\")\n",
    "\n",
    "# Set terminal condition\n",
    "graph.add_edge(\"supervisor\", END)\n",
    "\n",
    "# Compile the app\n",
    "app = graph.compile()\n",
    "\n",
    "# Visualize the graph using Mermaid (in Jupyter Notebook)\n",
    "display(Image(app.get_graph().draw_mermaid_png()))\n"
   ]
  },
  {
   "cell_type": "code",
   "execution_count": 23,
   "id": "70212fda",
   "metadata": {},
   "outputs": [
    {
     "name": "stdout",
     "output_type": "stream",
     "text": [
      "********** GOTO **********\n",
      "researcher\n",
      "((), {'supervisor': {'next': 'researcher'}})\n",
      "**********BELOW IS MY STATE***************\n",
      "(('researcher:e5a1f9e5-123f-ac7b-edc2-bd1218b50e43',), {'agent': {'messages': [AIMessage(content='', additional_kwargs={'tool_calls': [{'id': '4j21ya2r1', 'function': {'arguments': '{\"query\":\"square root of 42\"}', 'name': 'tavily_search_results_json'}, 'type': 'function'}]}, response_metadata={'token_usage': {'completion_tokens': 219, 'prompt_tokens': 179, 'total_tokens': 398, 'completion_time': 0.878306307, 'prompt_time': 0.011163543, 'queue_time': 0.20021014, 'total_time': 0.88946985}, 'model_name': 'deepseek-r1-distill-llama-70b', 'system_fingerprint': 'fp_1bbe7845ec', 'finish_reason': 'tool_calls', 'logprobs': None}, id='run--97f90a66-33f7-41d4-b230-db4c1c34ff0f-0', tool_calls=[{'name': 'tavily_search_results_json', 'args': {'query': 'square root of 42'}, 'id': '4j21ya2r1', 'type': 'tool_call'}], usage_metadata={'input_tokens': 179, 'output_tokens': 219, 'total_tokens': 398})]}})\n",
      "**********BELOW IS MY STATE***************\n",
      "(('researcher:e5a1f9e5-123f-ac7b-edc2-bd1218b50e43',), {'tools': {'messages': [ToolMessage(content='[{\"title\": \"Square Root of 42 | Learn Important Terms and Concepts - Vedantu\", \"url\": \"https://www.vedantu.com/maths/square-root-of-42\", \"content\": \"The value of 42 or we can say the square root of 42 is 6.4807. In the radical form, we can write a square root of 42, which can not be reduced further. In\", \"score\": 0.9305657}, {\"title\": \"Square Root of 42 - BYJU\\'S\", \"url\": \"https://byjus.com/maths/square-root-of-42/\", \"content\": \"Table of Contents:\\\\n\\\\n## What is the Square Root of 42?\\\\n\\\\nIf a number is multiplied by itself and gives the result as 42, then the number is the square root 42. The square root of 42 is symbolically expressed as √42.\\\\n\\\\nHence, √42 = √(Number × Number)\\\\n\\\\nThus, if we multiply the number 6.4807 two times, we get the original value 42.\\\\n\\\\n(i.e) √42 = √(6.4807× 6.4807)\\\\n\\\\n√42 = √(6.4807)2\\\\n\\\\nNow, remove square and square root, we get\\\\n\\\\n√42 = ± 6.4807 (or)\\\\n\\\\n√42 = ± 6.481 (Rounded to three decimal places) [...] | Square Root of 42 in Radical Form: √42. |\\\\n| --- |\\\\n\\\\n## Square Root of 42 by Prime Factorization Method\\\\n\\\\nTo find the square root of 42 using the prime factorization method, we need to know the prime factors of 42. The prime factors of 42 are 2, 3 and 7 and the prime factorization of 42 is 2× 3×7.\\\\n\\\\nThus, √42 = √2. √3.√7\\\\n\\\\nWe know that,\\\\n\\\\n√2 = 1.414\\\\n\\\\n√3 = 1.732\\\\n\\\\n√7 = 2.646\\\\n\\\\nNow, substitute the values of √2, √3 and √7 in the above equation.\\\\n\\\\n√42 = 1.414 × 1.732 × 2.646\\\\n\\\\n√42 = 6.481 (approximately) [...] | Square Root of 42 in Decimal Form: 6.481. |\\\\n| --- |\\\\n\\\\n## Square Root of 42 in Radical Form\\\\n\\\\nWe can also represent the square root of 42 in the radical form. To express the square root of 42 in radical form, write the prime factors of 42. The number 42 has three prime factors, such as 2, 3 and 7. So, if we want to write √42 in radical form, it should be like √2. √3. √7, which is not in the simplest form. So, we can say the square root of 42 is radical form is √42\", \"score\": 0.9247491}, {\"title\": \"What is the square root of 42? - Quora\", \"url\": \"https://www.quora.com/What-is-the-square-root-of-42\", \"content\": \"Show your expertise in video communication with Loom. Get certified to enhance your skills.\\\\n\\\\nLearn More\\\\n\\\\n9946\\\\n\\\\nImage 5: Profile photo for Assistant\\\\n\\\\nAssistant\\\\n\\\\nBot\\\\n\\\\n · \\\\n\\\\n8mo\\\\n\\\\nThe square root of 42 is approximately 6.4807.\\\\n\\\\nUpvote ·\\\\n\\\\nImage 6: Profile photo for Ritvik Saran S\\\\n\\\\nRitvik Saran S\\\\n\\\\nFull Stack Developer · Author has 209 answers and 241.3K answer views\\\\n\\\\n · 5y\\\\n\\\\nOriginally Answered: What is the square root of 42 for the first approximation? ·\\\\n\\\\nFor approximating the square root of 42. [...] √26\\\\\\\\=626\\\\\\\\=6 helps to find the square root of 42 using Heron’s (iteration) method:\\\\n\\\\nx1\\\\\\\\=12⋅(6+426)\\\\\\\\=6.5x1\\\\\\\\=12⋅(6+426)\\\\\\\\=6.5\\\\n\\\\nThis squared is 42.25 and not close enough to 42. But 6.5 will bring us closer to it:\\\\n\\\\nx2\\\\\\\\=12⋅(6.5+426.5)≈x2\\\\\\\\=12⋅(6.5+426.5)≈\\\\n\\\\n6.48076923076923076923076923076926.4807692307692307692307692307692\\\\n\\\\nwhich squared is 42.00036982248520710059171597633142.000369822485207100591715976331 and much closer to the radicand 42.\\\\n\\\\nUpvote ·\\\\n\\\\nImage 13: Profile photo for Nathaniel Day [...] Double the approximate root we got that is 9, 9 x 2=18.\\\\n\\\\nNow the formula is 9 + 4/18=9 + 0.22=9.22.\\\\n\\\\nResult from the calculator is\\\\n\\\\nContinue Reading\\\\n\\\\nFor approximating the square root of 42.\\\\n\\\\nFirst we can say it is 6 along with some decimals. Because 42 is in between 36 and 49 or 6^2 and 7^2.\\\\n\\\\nFind 42 – 6^2=42 - 36=6.\\\\n\\\\nDouble the approximate root we got that is 6, 6 x 2=12.\\\\n\\\\nNow the formula is 6 + 6/12=6 + 0.5=6.5.\\\\n\\\\nResult from the calculator is 6.48. Just 0.02 off.\", \"score\": 0.898277}, {\"title\": \"Square Root of -42 | How to Find the Value of - BrightChamps\", \"url\": \"https://brightchamps.com/en-us/math/algebra/square-root-of-minus-42\", \"content\": \"The square root is the inverse operation of squaring a number. Since -42 is negative, its square root involves complex numbers. The square root of -42 is expressed in terms of the imaginary unit \\'i\\', where i represents √-1. Therefore, the square root of -42 is written as √(-42) = √(42) \\\\\\\\ i = 6.48074i, which is a complex number.\\\\n\\\\nProfessor Greenline from BrightChamps\\\\n\\\\n## Finding the Square Root of -42 [...] First, find the square root of -42, which is 6.48074i.\\\\n\\\\nThen, multiply by 5: 5 \\\\\\\\ 6.48074i = 32.4037i\\\\n\\\\nMax from BrightChamps Praising Clear Math Explanations\\\\nMax, the Girl Character from BrightChamps\\\\n\\\\n### Problem 4\\\\n\\\\nWhat is the square root of (-36 - 6)?\\\\n\\\\nRay, the Boy Character from BrightChamps Saying \\\\\"Let’s Begin\\\\\"\\\\n\\\\nThe square root is 6i.\\\\n\\\\nThe square root is 6i.\\\\n\\\\n### Explanation\\\\n\\\\nCalculate (-36 - 6) = -42. √(-42) = √42 \\\\\\\\ i = 6.48074i, but for simplicity, since it\\'s close to -36, use 6i. [...] The long division method is generally used for finding the square roots of non-perfect squares. For negative numbers, we use the imaginary unit \\'i\\'. Here\\'s a simplified approach:\\\\n\\\\nStep 1: Find the square root of the positive part, 42, using the long division method.\\\\n\\\\nStep 2: Once the square root of 42 is found, multiply the result by \\'i\\' to account for the negative sign.\\\\n\\\\nThus, √(-42) = 6.48074i\\\\n\\\\nProfessor Greenline from BrightChamps\\\\n\\\\n## Square Root of -42 by Approximation Method\", \"score\": 0.89324445}, {\"title\": \"Simplify square root of 42 - Mathway\", \"url\": \"https://www.mathway.com/popular-problems/Algebra/245547\", \"content\": \"Simplify square root of 42. √42 42. The result can be shown in multiple forms. Exact Form: √42 42. Decimal Form: 6.48074069.\", \"score\": 0.8914433}]', name='tavily_search_results_json', id='fe731ce7-56e2-4ee8-b0b7-a6c867484760', tool_call_id='4j21ya2r1', artifact={'query': 'square root of 42', 'follow_up_questions': None, 'answer': None, 'images': [], 'results': [{'url': 'https://www.vedantu.com/maths/square-root-of-42', 'title': 'Square Root of 42 | Learn Important Terms and Concepts - Vedantu', 'content': 'The value of 42 or we can say the square root of 42 is 6.4807. In the radical form, we can write a square root of 42, which can not be reduced further. In', 'score': 0.9305657, 'raw_content': None}, {'url': 'https://byjus.com/maths/square-root-of-42/', 'title': \"Square Root of 42 - BYJU'S\", 'content': 'Table of Contents:\\n\\n## What is the Square Root of 42?\\n\\nIf a number is multiplied by itself and gives the result as 42, then the number is the square root 42. The square root of 42 is symbolically expressed as √42.\\n\\nHence, √42 = √(Number × Number)\\n\\nThus, if we multiply the number 6.4807 two times, we get the original value 42.\\n\\n(i.e) √42 = √(6.4807× 6.4807)\\n\\n√42 = √(6.4807)2\\n\\nNow, remove square and square root, we get\\n\\n√42 = ± 6.4807 (or)\\n\\n√42 = ± 6.481 (Rounded to three decimal places) [...] | Square Root of 42 in Radical Form: √42. |\\n| --- |\\n\\n## Square Root of 42 by Prime Factorization Method\\n\\nTo find the square root of 42 using the prime factorization method, we need to know the prime factors of 42. The prime factors of 42 are 2, 3 and 7 and the prime factorization of 42 is 2× 3×7.\\n\\nThus, √42 = √2. √3.√7\\n\\nWe know that,\\n\\n√2 = 1.414\\n\\n√3 = 1.732\\n\\n√7 = 2.646\\n\\nNow, substitute the values of √2, √3 and √7 in the above equation.\\n\\n√42 = 1.414 × 1.732 × 2.646\\n\\n√42 = 6.481 (approximately) [...] | Square Root of 42 in Decimal Form: 6.481. |\\n| --- |\\n\\n## Square Root of 42 in Radical Form\\n\\nWe can also represent the square root of 42 in the radical form. To express the square root of 42 in radical form, write the prime factors of 42. The number 42 has three prime factors, such as 2, 3 and 7. So, if we want to write √42 in radical form, it should be like √2. √3. √7, which is not in the simplest form. So, we can say the square root of 42 is radical form is √42', 'score': 0.9247491, 'raw_content': None}, {'url': 'https://www.quora.com/What-is-the-square-root-of-42', 'title': 'What is the square root of 42? - Quora', 'content': 'Show your expertise in video communication with Loom. Get certified to enhance your skills.\\n\\nLearn More\\n\\n9946\\n\\nImage 5: Profile photo for Assistant\\n\\nAssistant\\n\\nBot\\n\\n · \\n\\n8mo\\n\\nThe square root of 42 is approximately 6.4807.\\n\\nUpvote ·\\n\\nImage 6: Profile photo for Ritvik Saran S\\n\\nRitvik Saran S\\n\\nFull Stack Developer · Author has 209 answers and 241.3K answer views\\n\\n · 5y\\n\\nOriginally Answered: What is the square root of 42 for the first approximation? ·\\n\\nFor approximating the square root of 42. [...] √26\\\\=626\\\\=6 helps to find the square root of 42 using Heron’s (iteration) method:\\n\\nx1\\\\=12⋅(6+426)\\\\=6.5x1\\\\=12⋅(6+426)\\\\=6.5\\n\\nThis squared is 42.25 and not close enough to 42. But 6.5 will bring us closer to it:\\n\\nx2\\\\=12⋅(6.5+426.5)≈x2\\\\=12⋅(6.5+426.5)≈\\n\\n6.48076923076923076923076923076926.4807692307692307692307692307692\\n\\nwhich squared is 42.00036982248520710059171597633142.000369822485207100591715976331 and much closer to the radicand 42.\\n\\nUpvote ·\\n\\nImage 13: Profile photo for Nathaniel Day [...] Double the approximate root we got that is 9, 9 x 2=18.\\n\\nNow the formula is 9 + 4/18=9 + 0.22=9.22.\\n\\nResult from the calculator is\\n\\nContinue Reading\\n\\nFor approximating the square root of 42.\\n\\nFirst we can say it is 6 along with some decimals. Because 42 is in between 36 and 49 or 6^2 and 7^2.\\n\\nFind 42 – 6^2=42 - 36=6.\\n\\nDouble the approximate root we got that is 6, 6 x 2=12.\\n\\nNow the formula is 6 + 6/12=6 + 0.5=6.5.\\n\\nResult from the calculator is 6.48. Just 0.02 off.', 'score': 0.898277, 'raw_content': None}, {'url': 'https://brightchamps.com/en-us/math/algebra/square-root-of-minus-42', 'title': 'Square Root of -42 | How to Find the Value of - BrightChamps', 'content': 'The square root is the inverse operation of squaring a number. Since -42 is negative, its square root involves complex numbers. The square root of -42 is expressed in terms of the imaginary unit \\'i\\', where i represents √-1. Therefore, the square root of -42 is written as √(-42) = √(42) \\\\ i = 6.48074i, which is a complex number.\\n\\nProfessor Greenline from BrightChamps\\n\\n## Finding the Square Root of -42 [...] First, find the square root of -42, which is 6.48074i.\\n\\nThen, multiply by 5: 5 \\\\ 6.48074i = 32.4037i\\n\\nMax from BrightChamps Praising Clear Math Explanations\\nMax, the Girl Character from BrightChamps\\n\\n### Problem 4\\n\\nWhat is the square root of (-36 - 6)?\\n\\nRay, the Boy Character from BrightChamps Saying \"Let’s Begin\"\\n\\nThe square root is 6i.\\n\\nThe square root is 6i.\\n\\n### Explanation\\n\\nCalculate (-36 - 6) = -42. √(-42) = √42 \\\\ i = 6.48074i, but for simplicity, since it\\'s close to -36, use 6i. [...] The long division method is generally used for finding the square roots of non-perfect squares. For negative numbers, we use the imaginary unit \\'i\\'. Here\\'s a simplified approach:\\n\\nStep 1: Find the square root of the positive part, 42, using the long division method.\\n\\nStep 2: Once the square root of 42 is found, multiply the result by \\'i\\' to account for the negative sign.\\n\\nThus, √(-42) = 6.48074i\\n\\nProfessor Greenline from BrightChamps\\n\\n## Square Root of -42 by Approximation Method', 'score': 0.89324445, 'raw_content': None}, {'url': 'https://www.mathway.com/popular-problems/Algebra/245547', 'title': 'Simplify square root of 42 - Mathway', 'content': 'Simplify square root of 42. √42 42. The result can be shown in multiple forms. Exact Form: √42 42. Decimal Form: 6.48074069.', 'score': 0.8914433, 'raw_content': None}], 'response_time': 3.26})]}})\n",
      "**********BELOW IS MY STATE***************\n",
      "(('researcher:e5a1f9e5-123f-ac7b-edc2-bd1218b50e43',), {'agent': {'messages': [AIMessage(content='The square root of 42 is approximately 6.4807.', additional_kwargs={}, response_metadata={'token_usage': {'completion_tokens': 33, 'prompt_tokens': 2060, 'total_tokens': 2093, 'completion_time': 0.130192342, 'prompt_time': 0.156182976, 'queue_time': 0.2016082, 'total_time': 0.286375318}, 'model_name': 'deepseek-r1-distill-llama-70b', 'system_fingerprint': 'fp_1bbe7845ec', 'finish_reason': 'stop', 'logprobs': None}, id='run--7511192b-8a3b-4275-8a4a-97786934de62-0', usage_metadata={'input_tokens': 2060, 'output_tokens': 33, 'total_tokens': 2093})]}})\n",
      "**********BELOW IS MY STATE***************\n",
      "((), {'researcher': {'messages': [HumanMessage(content='The square root of 42 is approximately 6.4807.', additional_kwargs={}, response_metadata={}, name='researcher')]}})\n",
      "**********BELOW IS MY STATE***************\n",
      "********** GOTO **********\n",
      "FINISH\n",
      "((), {'supervisor': {'next': '__end__'}})\n",
      "**********BELOW IS MY STATE***************\n"
     ]
    }
   ],
   "source": [
    "for s in app.stream({\"messages\": [(\"user\", \"What's the square root of 42?\")]}, subgraphs=True):\n",
    "    print(s)\n",
    "    print(\"**********BELOW IS MY STATE***************\")"
   ]
  },
  {
   "cell_type": "code",
   "execution_count": 24,
   "id": "01ff96b1",
   "metadata": {},
   "outputs": [
    {
     "name": "stdout",
     "output_type": "stream",
     "text": [
      "********** GOTO **********\n",
      "coder\n"
     ]
    },
    {
     "ename": "BadRequestError",
     "evalue": "Error code: 400 - {'error': {'message': \"Failed to call a function. Please adjust your prompt. See 'failed_generation' for more details.\", 'type': 'invalid_request_error', 'code': 'tool_use_failed', 'failed_generation': ''}}",
     "output_type": "error",
     "traceback": [
      "\u001b[31m---------------------------------------------------------------------------\u001b[39m",
      "\u001b[31mBadRequestError\u001b[39m                           Traceback (most recent call last)",
      "\u001b[36mCell\u001b[39m\u001b[36m \u001b[39m\u001b[32mIn[24]\u001b[39m\u001b[32m, line 1\u001b[39m\n\u001b[32m----> \u001b[39m\u001b[32m1\u001b[39m result=\u001b[43mapp\u001b[49m\u001b[43m.\u001b[49m\u001b[43minvoke\u001b[49m\u001b[43m(\u001b[49m\u001b[43m{\u001b[49m\u001b[33;43m\"\u001b[39;49m\u001b[33;43mmessages\u001b[39;49m\u001b[33;43m\"\u001b[39;49m\u001b[43m:\u001b[49m\u001b[43m \u001b[49m\u001b[43m[\u001b[49m\u001b[43m(\u001b[49m\u001b[33;43m\"\u001b[39;49m\u001b[33;43muser\u001b[39;49m\u001b[33;43m\"\u001b[39;49m\u001b[43m,\u001b[49m\u001b[43m \u001b[49m\u001b[33;43m\"\u001b[39;49m\u001b[33;43mwhat is an efficent python code to get prime number?\u001b[39;49m\u001b[33;43m\"\u001b[39;49m\u001b[43m)\u001b[49m\u001b[43m]\u001b[49m\u001b[43m}\u001b[49m\u001b[43m,\u001b[49m\u001b[43m \u001b[49m\u001b[43msubgraphs\u001b[49m\u001b[43m=\u001b[49m\u001b[38;5;28;43;01mTrue\u001b[39;49;00m\u001b[43m)\u001b[49m\n",
      "\u001b[36mFile \u001b[39m\u001b[32mc:\\Users\\Nahid\\OneDrive - Calmi2\\Desktop\\Agentic AI\\venv\\Lib\\site-packages\\langgraph\\pregel\\__init__.py:2719\u001b[39m, in \u001b[36mPregel.invoke\u001b[39m\u001b[34m(self, input, config, stream_mode, output_keys, interrupt_before, interrupt_after, checkpoint_during, debug, **kwargs)\u001b[39m\n\u001b[32m   2716\u001b[39m chunks: \u001b[38;5;28mlist\u001b[39m[Union[\u001b[38;5;28mdict\u001b[39m[\u001b[38;5;28mstr\u001b[39m, Any], Any]] = []\n\u001b[32m   2717\u001b[39m interrupts: \u001b[38;5;28mlist\u001b[39m[Interrupt] = []\n\u001b[32m-> \u001b[39m\u001b[32m2719\u001b[39m \u001b[43m\u001b[49m\u001b[38;5;28;43;01mfor\u001b[39;49;00m\u001b[43m \u001b[49m\u001b[43mchunk\u001b[49m\u001b[43m \u001b[49m\u001b[38;5;129;43;01min\u001b[39;49;00m\u001b[43m \u001b[49m\u001b[38;5;28;43mself\u001b[39;49m\u001b[43m.\u001b[49m\u001b[43mstream\u001b[49m\u001b[43m(\u001b[49m\n\u001b[32m   2720\u001b[39m \u001b[43m    \u001b[49m\u001b[38;5;28;43minput\u001b[39;49m\u001b[43m,\u001b[49m\n\u001b[32m   2721\u001b[39m \u001b[43m    \u001b[49m\u001b[43mconfig\u001b[49m\u001b[43m,\u001b[49m\n\u001b[32m   2722\u001b[39m \u001b[43m    \u001b[49m\u001b[43mstream_mode\u001b[49m\u001b[43m=\u001b[49m\u001b[43mstream_mode\u001b[49m\u001b[43m,\u001b[49m\n\u001b[32m   2723\u001b[39m \u001b[43m    \u001b[49m\u001b[43moutput_keys\u001b[49m\u001b[43m=\u001b[49m\u001b[43moutput_keys\u001b[49m\u001b[43m,\u001b[49m\n\u001b[32m   2724\u001b[39m \u001b[43m    \u001b[49m\u001b[43minterrupt_before\u001b[49m\u001b[43m=\u001b[49m\u001b[43minterrupt_before\u001b[49m\u001b[43m,\u001b[49m\n\u001b[32m   2725\u001b[39m \u001b[43m    \u001b[49m\u001b[43minterrupt_after\u001b[49m\u001b[43m=\u001b[49m\u001b[43minterrupt_after\u001b[49m\u001b[43m,\u001b[49m\n\u001b[32m   2726\u001b[39m \u001b[43m    \u001b[49m\u001b[43mcheckpoint_during\u001b[49m\u001b[43m=\u001b[49m\u001b[43mcheckpoint_during\u001b[49m\u001b[43m,\u001b[49m\n\u001b[32m   2727\u001b[39m \u001b[43m    \u001b[49m\u001b[43mdebug\u001b[49m\u001b[43m=\u001b[49m\u001b[43mdebug\u001b[49m\u001b[43m,\u001b[49m\n\u001b[32m   2728\u001b[39m \u001b[43m    \u001b[49m\u001b[43m*\u001b[49m\u001b[43m*\u001b[49m\u001b[43mkwargs\u001b[49m\u001b[43m,\u001b[49m\n\u001b[32m   2729\u001b[39m \u001b[43m\u001b[49m\u001b[43m)\u001b[49m\u001b[43m:\u001b[49m\n\u001b[32m   2730\u001b[39m \u001b[43m    \u001b[49m\u001b[38;5;28;43;01mif\u001b[39;49;00m\u001b[43m \u001b[49m\u001b[43mstream_mode\u001b[49m\u001b[43m \u001b[49m\u001b[43m==\u001b[49m\u001b[43m \u001b[49m\u001b[33;43m\"\u001b[39;49m\u001b[33;43mvalues\u001b[39;49m\u001b[33;43m\"\u001b[39;49m\u001b[43m:\u001b[49m\n\u001b[32m   2731\u001b[39m \u001b[43m        \u001b[49m\u001b[38;5;28;43;01mif\u001b[39;49;00m\u001b[43m \u001b[49m\u001b[43m(\u001b[49m\n\u001b[32m   2732\u001b[39m \u001b[43m            \u001b[49m\u001b[38;5;28;43misinstance\u001b[39;49m\u001b[43m(\u001b[49m\u001b[43mchunk\u001b[49m\u001b[43m,\u001b[49m\u001b[43m \u001b[49m\u001b[38;5;28;43mdict\u001b[39;49m\u001b[43m)\u001b[49m\n\u001b[32m   2733\u001b[39m \u001b[43m            \u001b[49m\u001b[38;5;129;43;01mand\u001b[39;49;00m\u001b[43m \u001b[49m\u001b[43m(\u001b[49m\u001b[43mints\u001b[49m\u001b[43m \u001b[49m\u001b[43m:=\u001b[49m\u001b[43m \u001b[49m\u001b[43mchunk\u001b[49m\u001b[43m.\u001b[49m\u001b[43mget\u001b[49m\u001b[43m(\u001b[49m\u001b[43mINTERRUPT\u001b[49m\u001b[43m)\u001b[49m\u001b[43m)\u001b[49m\u001b[43m \u001b[49m\u001b[38;5;129;43;01mis\u001b[39;49;00m\u001b[43m \u001b[49m\u001b[38;5;129;43;01mnot\u001b[39;49;00m\u001b[43m \u001b[49m\u001b[38;5;28;43;01mNone\u001b[39;49;00m\n\u001b[32m   2734\u001b[39m \u001b[43m        \u001b[49m\u001b[43m)\u001b[49m\u001b[43m:\u001b[49m\n",
      "\u001b[36mFile \u001b[39m\u001b[32mc:\\Users\\Nahid\\OneDrive - Calmi2\\Desktop\\Agentic AI\\venv\\Lib\\site-packages\\langgraph\\pregel\\__init__.py:2436\u001b[39m, in \u001b[36mPregel.stream\u001b[39m\u001b[34m(self, input, config, stream_mode, output_keys, interrupt_before, interrupt_after, checkpoint_during, debug, subgraphs)\u001b[39m\n\u001b[32m   2434\u001b[39m         \u001b[38;5;28;01mfor\u001b[39;00m task \u001b[38;5;129;01min\u001b[39;00m loop.match_cached_writes():\n\u001b[32m   2435\u001b[39m             loop.output_writes(task.id, task.writes, cached=\u001b[38;5;28;01mTrue\u001b[39;00m)\n\u001b[32m-> \u001b[39m\u001b[32m2436\u001b[39m \u001b[43m        \u001b[49m\u001b[38;5;28;43;01mfor\u001b[39;49;00m\u001b[43m \u001b[49m\u001b[43m_\u001b[49m\u001b[43m \u001b[49m\u001b[38;5;129;43;01min\u001b[39;49;00m\u001b[43m \u001b[49m\u001b[43mrunner\u001b[49m\u001b[43m.\u001b[49m\u001b[43mtick\u001b[49m\u001b[43m(\u001b[49m\n\u001b[32m   2437\u001b[39m \u001b[43m            \u001b[49m\u001b[43m[\u001b[49m\u001b[43mt\u001b[49m\u001b[43m \u001b[49m\u001b[38;5;28;43;01mfor\u001b[39;49;00m\u001b[43m \u001b[49m\u001b[43mt\u001b[49m\u001b[43m \u001b[49m\u001b[38;5;129;43;01min\u001b[39;49;00m\u001b[43m \u001b[49m\u001b[43mloop\u001b[49m\u001b[43m.\u001b[49m\u001b[43mtasks\u001b[49m\u001b[43m.\u001b[49m\u001b[43mvalues\u001b[49m\u001b[43m(\u001b[49m\u001b[43m)\u001b[49m\u001b[43m \u001b[49m\u001b[38;5;28;43;01mif\u001b[39;49;00m\u001b[43m \u001b[49m\u001b[38;5;129;43;01mnot\u001b[39;49;00m\u001b[43m \u001b[49m\u001b[43mt\u001b[49m\u001b[43m.\u001b[49m\u001b[43mwrites\u001b[49m\u001b[43m]\u001b[49m\u001b[43m,\u001b[49m\n\u001b[32m   2438\u001b[39m \u001b[43m            \u001b[49m\u001b[43mtimeout\u001b[49m\u001b[43m=\u001b[49m\u001b[38;5;28;43mself\u001b[39;49m\u001b[43m.\u001b[49m\u001b[43mstep_timeout\u001b[49m\u001b[43m,\u001b[49m\n\u001b[32m   2439\u001b[39m \u001b[43m            \u001b[49m\u001b[43mget_waiter\u001b[49m\u001b[43m=\u001b[49m\u001b[43mget_waiter\u001b[49m\u001b[43m,\u001b[49m\n\u001b[32m   2440\u001b[39m \u001b[43m            \u001b[49m\u001b[43mschedule_task\u001b[49m\u001b[43m=\u001b[49m\u001b[43mloop\u001b[49m\u001b[43m.\u001b[49m\u001b[43maccept_push\u001b[49m\u001b[43m,\u001b[49m\n\u001b[32m   2441\u001b[39m \u001b[43m        \u001b[49m\u001b[43m)\u001b[49m\u001b[43m:\u001b[49m\n\u001b[32m   2442\u001b[39m \u001b[43m            \u001b[49m\u001b[38;5;66;43;03m# emit output\u001b[39;49;00m\n\u001b[32m   2443\u001b[39m \u001b[43m            \u001b[49m\u001b[38;5;28;43;01myield from\u001b[39;49;00m\u001b[43m \u001b[49m\u001b[43moutput\u001b[49m\u001b[43m(\u001b[49m\u001b[43m)\u001b[49m\n\u001b[32m   2444\u001b[39m \u001b[38;5;66;03m# emit output\u001b[39;00m\n",
      "\u001b[36mFile \u001b[39m\u001b[32mc:\\Users\\Nahid\\OneDrive - Calmi2\\Desktop\\Agentic AI\\venv\\Lib\\site-packages\\langgraph\\pregel\\runner.py:252\u001b[39m, in \u001b[36mPregelRunner.tick\u001b[39m\u001b[34m(self, tasks, reraise, timeout, retry_policy, get_waiter, schedule_task)\u001b[39m\n\u001b[32m    250\u001b[39m \u001b[38;5;66;03m# panic on failure or timeout\u001b[39;00m\n\u001b[32m    251\u001b[39m \u001b[38;5;28;01mtry\u001b[39;00m:\n\u001b[32m--> \u001b[39m\u001b[32m252\u001b[39m     \u001b[43m_panic_or_proceed\u001b[49m\u001b[43m(\u001b[49m\n\u001b[32m    253\u001b[39m \u001b[43m        \u001b[49m\u001b[43mfutures\u001b[49m\u001b[43m.\u001b[49m\u001b[43mdone\u001b[49m\u001b[43m.\u001b[49m\u001b[43munion\u001b[49m\u001b[43m(\u001b[49m\u001b[43mf\u001b[49m\u001b[43m \u001b[49m\u001b[38;5;28;43;01mfor\u001b[39;49;00m\u001b[43m \u001b[49m\u001b[43mf\u001b[49m\u001b[43m,\u001b[49m\u001b[43m \u001b[49m\u001b[43mt\u001b[49m\u001b[43m \u001b[49m\u001b[38;5;129;43;01min\u001b[39;49;00m\u001b[43m \u001b[49m\u001b[43mfutures\u001b[49m\u001b[43m.\u001b[49m\u001b[43mitems\u001b[49m\u001b[43m(\u001b[49m\u001b[43m)\u001b[49m\u001b[43m \u001b[49m\u001b[38;5;28;43;01mif\u001b[39;49;00m\u001b[43m \u001b[49m\u001b[43mt\u001b[49m\u001b[43m \u001b[49m\u001b[38;5;129;43;01mis\u001b[39;49;00m\u001b[43m \u001b[49m\u001b[38;5;129;43;01mnot\u001b[39;49;00m\u001b[43m \u001b[49m\u001b[38;5;28;43;01mNone\u001b[39;49;00m\u001b[43m)\u001b[49m\u001b[43m,\u001b[49m\n\u001b[32m    254\u001b[39m \u001b[43m        \u001b[49m\u001b[43mpanic\u001b[49m\u001b[43m=\u001b[49m\u001b[43mreraise\u001b[49m\u001b[43m,\u001b[49m\n\u001b[32m    255\u001b[39m \u001b[43m    \u001b[49m\u001b[43m)\u001b[49m\n\u001b[32m    256\u001b[39m \u001b[38;5;28;01mexcept\u001b[39;00m \u001b[38;5;167;01mException\u001b[39;00m \u001b[38;5;28;01mas\u001b[39;00m exc:\n\u001b[32m    257\u001b[39m     \u001b[38;5;28;01mif\u001b[39;00m tb := exc.__traceback__:\n",
      "\u001b[36mFile \u001b[39m\u001b[32mc:\\Users\\Nahid\\OneDrive - Calmi2\\Desktop\\Agentic AI\\venv\\Lib\\site-packages\\langgraph\\pregel\\runner.py:509\u001b[39m, in \u001b[36m_panic_or_proceed\u001b[39m\u001b[34m(futs, timeout_exc_cls, panic)\u001b[39m\n\u001b[32m    507\u001b[39m                 interrupts.append(exc)\n\u001b[32m    508\u001b[39m             \u001b[38;5;28;01melif\u001b[39;00m fut \u001b[38;5;129;01mnot\u001b[39;00m \u001b[38;5;129;01min\u001b[39;00m SKIP_RERAISE_SET:\n\u001b[32m--> \u001b[39m\u001b[32m509\u001b[39m                 \u001b[38;5;28;01mraise\u001b[39;00m exc\n\u001b[32m    510\u001b[39m \u001b[38;5;66;03m# raise combined interrupts\u001b[39;00m\n\u001b[32m    511\u001b[39m \u001b[38;5;28;01mif\u001b[39;00m interrupts:\n",
      "\u001b[36mFile \u001b[39m\u001b[32mc:\\Users\\Nahid\\OneDrive - Calmi2\\Desktop\\Agentic AI\\venv\\Lib\\site-packages\\langgraph\\pregel\\executor.py:80\u001b[39m, in \u001b[36mBackgroundExecutor.done\u001b[39m\u001b[34m(self, task)\u001b[39m\n\u001b[32m     78\u001b[39m \u001b[38;5;250m\u001b[39m\u001b[33;03m\"\"\"Remove the task from the tasks dict when it's done.\"\"\"\u001b[39;00m\n\u001b[32m     79\u001b[39m \u001b[38;5;28;01mtry\u001b[39;00m:\n\u001b[32m---> \u001b[39m\u001b[32m80\u001b[39m     \u001b[43mtask\u001b[49m\u001b[43m.\u001b[49m\u001b[43mresult\u001b[49m\u001b[43m(\u001b[49m\u001b[43m)\u001b[49m\n\u001b[32m     81\u001b[39m \u001b[38;5;28;01mexcept\u001b[39;00m GraphBubbleUp:\n\u001b[32m     82\u001b[39m     \u001b[38;5;66;03m# This exception is an interruption signal, not an error\u001b[39;00m\n\u001b[32m     83\u001b[39m     \u001b[38;5;66;03m# so we don't want to re-raise it on exit\u001b[39;00m\n\u001b[32m     84\u001b[39m     \u001b[38;5;28mself\u001b[39m.tasks.pop(task)\n",
      "\u001b[36mFile \u001b[39m\u001b[32mc:\\Users\\Nahid\\OneDrive - Calmi2\\Desktop\\Agentic AI\\venv\\Lib\\concurrent\\futures\\_base.py:449\u001b[39m, in \u001b[36mFuture.result\u001b[39m\u001b[34m(self, timeout)\u001b[39m\n\u001b[32m    447\u001b[39m     \u001b[38;5;28;01mraise\u001b[39;00m CancelledError()\n\u001b[32m    448\u001b[39m \u001b[38;5;28;01melif\u001b[39;00m \u001b[38;5;28mself\u001b[39m._state == FINISHED:\n\u001b[32m--> \u001b[39m\u001b[32m449\u001b[39m     \u001b[38;5;28;01mreturn\u001b[39;00m \u001b[38;5;28;43mself\u001b[39;49m\u001b[43m.\u001b[49m\u001b[43m__get_result\u001b[49m\u001b[43m(\u001b[49m\u001b[43m)\u001b[49m\n\u001b[32m    451\u001b[39m \u001b[38;5;28mself\u001b[39m._condition.wait(timeout)\n\u001b[32m    453\u001b[39m \u001b[38;5;28;01mif\u001b[39;00m \u001b[38;5;28mself\u001b[39m._state \u001b[38;5;129;01min\u001b[39;00m [CANCELLED, CANCELLED_AND_NOTIFIED]:\n",
      "\u001b[36mFile \u001b[39m\u001b[32mc:\\Users\\Nahid\\OneDrive - Calmi2\\Desktop\\Agentic AI\\venv\\Lib\\concurrent\\futures\\_base.py:401\u001b[39m, in \u001b[36mFuture.__get_result\u001b[39m\u001b[34m(self)\u001b[39m\n\u001b[32m    399\u001b[39m \u001b[38;5;28;01mif\u001b[39;00m \u001b[38;5;28mself\u001b[39m._exception:\n\u001b[32m    400\u001b[39m     \u001b[38;5;28;01mtry\u001b[39;00m:\n\u001b[32m--> \u001b[39m\u001b[32m401\u001b[39m         \u001b[38;5;28;01mraise\u001b[39;00m \u001b[38;5;28mself\u001b[39m._exception\n\u001b[32m    402\u001b[39m     \u001b[38;5;28;01mfinally\u001b[39;00m:\n\u001b[32m    403\u001b[39m         \u001b[38;5;66;03m# Break a reference cycle with the exception in self._exception\u001b[39;00m\n\u001b[32m    404\u001b[39m         \u001b[38;5;28mself\u001b[39m = \u001b[38;5;28;01mNone\u001b[39;00m\n",
      "\u001b[36mFile \u001b[39m\u001b[32mc:\\Users\\Nahid\\OneDrive - Calmi2\\Desktop\\Agentic AI\\venv\\Lib\\concurrent\\futures\\thread.py:58\u001b[39m, in \u001b[36m_WorkItem.run\u001b[39m\u001b[34m(self)\u001b[39m\n\u001b[32m     55\u001b[39m     \u001b[38;5;28;01mreturn\u001b[39;00m\n\u001b[32m     57\u001b[39m \u001b[38;5;28;01mtry\u001b[39;00m:\n\u001b[32m---> \u001b[39m\u001b[32m58\u001b[39m     result = \u001b[38;5;28;43mself\u001b[39;49m\u001b[43m.\u001b[49m\u001b[43mfn\u001b[49m\u001b[43m(\u001b[49m\u001b[43m*\u001b[49m\u001b[38;5;28;43mself\u001b[39;49m\u001b[43m.\u001b[49m\u001b[43margs\u001b[49m\u001b[43m,\u001b[49m\u001b[43m \u001b[49m\u001b[43m*\u001b[49m\u001b[43m*\u001b[49m\u001b[38;5;28;43mself\u001b[39;49m\u001b[43m.\u001b[49m\u001b[43mkwargs\u001b[49m\u001b[43m)\u001b[49m\n\u001b[32m     59\u001b[39m \u001b[38;5;28;01mexcept\u001b[39;00m \u001b[38;5;167;01mBaseException\u001b[39;00m \u001b[38;5;28;01mas\u001b[39;00m exc:\n\u001b[32m     60\u001b[39m     \u001b[38;5;28mself\u001b[39m.future.set_exception(exc)\n",
      "\u001b[36mFile \u001b[39m\u001b[32mc:\\Users\\Nahid\\OneDrive - Calmi2\\Desktop\\Agentic AI\\venv\\Lib\\site-packages\\langgraph\\pregel\\retry.py:40\u001b[39m, in \u001b[36mrun_with_retry\u001b[39m\u001b[34m(task, retry_policy, configurable)\u001b[39m\n\u001b[32m     38\u001b[39m     task.writes.clear()\n\u001b[32m     39\u001b[39m     \u001b[38;5;66;03m# run the task\u001b[39;00m\n\u001b[32m---> \u001b[39m\u001b[32m40\u001b[39m     \u001b[38;5;28;01mreturn\u001b[39;00m \u001b[43mtask\u001b[49m\u001b[43m.\u001b[49m\u001b[43mproc\u001b[49m\u001b[43m.\u001b[49m\u001b[43minvoke\u001b[49m\u001b[43m(\u001b[49m\u001b[43mtask\u001b[49m\u001b[43m.\u001b[49m\u001b[43minput\u001b[49m\u001b[43m,\u001b[49m\u001b[43m \u001b[49m\u001b[43mconfig\u001b[49m\u001b[43m)\u001b[49m\n\u001b[32m     41\u001b[39m \u001b[38;5;28;01mexcept\u001b[39;00m ParentCommand \u001b[38;5;28;01mas\u001b[39;00m exc:\n\u001b[32m     42\u001b[39m     ns: \u001b[38;5;28mstr\u001b[39m = config[CONF][CONFIG_KEY_CHECKPOINT_NS]\n",
      "\u001b[36mFile \u001b[39m\u001b[32mc:\\Users\\Nahid\\OneDrive - Calmi2\\Desktop\\Agentic AI\\venv\\Lib\\site-packages\\langgraph\\utils\\runnable.py:623\u001b[39m, in \u001b[36mRunnableSeq.invoke\u001b[39m\u001b[34m(self, input, config, **kwargs)\u001b[39m\n\u001b[32m    621\u001b[39m     \u001b[38;5;66;03m# run in context\u001b[39;00m\n\u001b[32m    622\u001b[39m     \u001b[38;5;28;01mwith\u001b[39;00m set_config_context(config, run) \u001b[38;5;28;01mas\u001b[39;00m context:\n\u001b[32m--> \u001b[39m\u001b[32m623\u001b[39m         \u001b[38;5;28minput\u001b[39m = \u001b[43mcontext\u001b[49m\u001b[43m.\u001b[49m\u001b[43mrun\u001b[49m\u001b[43m(\u001b[49m\u001b[43mstep\u001b[49m\u001b[43m.\u001b[49m\u001b[43minvoke\u001b[49m\u001b[43m,\u001b[49m\u001b[43m \u001b[49m\u001b[38;5;28;43minput\u001b[39;49m\u001b[43m,\u001b[49m\u001b[43m \u001b[49m\u001b[43mconfig\u001b[49m\u001b[43m,\u001b[49m\u001b[43m \u001b[49m\u001b[43m*\u001b[49m\u001b[43m*\u001b[49m\u001b[43mkwargs\u001b[49m\u001b[43m)\u001b[49m\n\u001b[32m    624\u001b[39m \u001b[38;5;28;01melse\u001b[39;00m:\n\u001b[32m    625\u001b[39m     \u001b[38;5;28minput\u001b[39m = step.invoke(\u001b[38;5;28minput\u001b[39m, config)\n",
      "\u001b[36mFile \u001b[39m\u001b[32mc:\\Users\\Nahid\\OneDrive - Calmi2\\Desktop\\Agentic AI\\venv\\Lib\\site-packages\\langgraph\\utils\\runnable.py:377\u001b[39m, in \u001b[36mRunnableCallable.invoke\u001b[39m\u001b[34m(self, input, config, **kwargs)\u001b[39m\n\u001b[32m    375\u001b[39m         run_manager.on_chain_end(ret)\n\u001b[32m    376\u001b[39m \u001b[38;5;28;01melse\u001b[39;00m:\n\u001b[32m--> \u001b[39m\u001b[32m377\u001b[39m     ret = \u001b[38;5;28;43mself\u001b[39;49m\u001b[43m.\u001b[49m\u001b[43mfunc\u001b[49m\u001b[43m(\u001b[49m\u001b[43m*\u001b[49m\u001b[43margs\u001b[49m\u001b[43m,\u001b[49m\u001b[43m \u001b[49m\u001b[43m*\u001b[49m\u001b[43m*\u001b[49m\u001b[43mkwargs\u001b[49m\u001b[43m)\u001b[49m\n\u001b[32m    378\u001b[39m \u001b[38;5;28;01mif\u001b[39;00m \u001b[38;5;28mself\u001b[39m.recurse \u001b[38;5;129;01mand\u001b[39;00m \u001b[38;5;28misinstance\u001b[39m(ret, Runnable):\n\u001b[32m    379\u001b[39m     \u001b[38;5;28;01mreturn\u001b[39;00m ret.invoke(\u001b[38;5;28minput\u001b[39m, config)\n",
      "\u001b[36mCell\u001b[39m\u001b[36m \u001b[39m\u001b[32mIn[21]\u001b[39m\u001b[32m, line 13\u001b[39m, in \u001b[36msupervisor_agent\u001b[39m\u001b[34m(state)\u001b[39m\n\u001b[32m     11\u001b[39m \u001b[38;5;66;03m# Use LLM with structured output (TypedDict Router)\u001b[39;00m\n\u001b[32m     12\u001b[39m llm_with_structure_output = llm.with_structured_output(Router)\n\u001b[32m---> \u001b[39m\u001b[32m13\u001b[39m response = \u001b[43mllm_with_structure_output\u001b[49m\u001b[43m.\u001b[49m\u001b[43minvoke\u001b[49m\u001b[43m(\u001b[49m\u001b[43mmessages\u001b[49m\u001b[43m)\u001b[49m\n\u001b[32m     15\u001b[39m \u001b[38;5;66;03m# Example: {'next': 'researcher'}\u001b[39;00m\n\u001b[32m     16\u001b[39m goto = response[\u001b[33m\"\u001b[39m\u001b[33mnext\u001b[39m\u001b[33m\"\u001b[39m]\n",
      "\u001b[36mFile \u001b[39m\u001b[32mc:\\Users\\Nahid\\OneDrive - Calmi2\\Desktop\\Agentic AI\\venv\\Lib\\site-packages\\langchain_core\\runnables\\base.py:3045\u001b[39m, in \u001b[36mRunnableSequence.invoke\u001b[39m\u001b[34m(self, input, config, **kwargs)\u001b[39m\n\u001b[32m   3043\u001b[39m \u001b[38;5;28;01mwith\u001b[39;00m set_config_context(config) \u001b[38;5;28;01mas\u001b[39;00m context:\n\u001b[32m   3044\u001b[39m     \u001b[38;5;28;01mif\u001b[39;00m i == \u001b[32m0\u001b[39m:\n\u001b[32m-> \u001b[39m\u001b[32m3045\u001b[39m         input_ = \u001b[43mcontext\u001b[49m\u001b[43m.\u001b[49m\u001b[43mrun\u001b[49m\u001b[43m(\u001b[49m\u001b[43mstep\u001b[49m\u001b[43m.\u001b[49m\u001b[43minvoke\u001b[49m\u001b[43m,\u001b[49m\u001b[43m \u001b[49m\u001b[43minput_\u001b[49m\u001b[43m,\u001b[49m\u001b[43m \u001b[49m\u001b[43mconfig\u001b[49m\u001b[43m,\u001b[49m\u001b[43m \u001b[49m\u001b[43m*\u001b[49m\u001b[43m*\u001b[49m\u001b[43mkwargs\u001b[49m\u001b[43m)\u001b[49m\n\u001b[32m   3046\u001b[39m     \u001b[38;5;28;01melse\u001b[39;00m:\n\u001b[32m   3047\u001b[39m         input_ = context.run(step.invoke, input_, config)\n",
      "\u001b[36mFile \u001b[39m\u001b[32mc:\\Users\\Nahid\\OneDrive - Calmi2\\Desktop\\Agentic AI\\venv\\Lib\\site-packages\\langchain_core\\runnables\\base.py:5430\u001b[39m, in \u001b[36mRunnableBindingBase.invoke\u001b[39m\u001b[34m(self, input, config, **kwargs)\u001b[39m\n\u001b[32m   5423\u001b[39m \u001b[38;5;129m@override\u001b[39m\n\u001b[32m   5424\u001b[39m \u001b[38;5;28;01mdef\u001b[39;00m\u001b[38;5;250m \u001b[39m\u001b[34minvoke\u001b[39m(\n\u001b[32m   5425\u001b[39m     \u001b[38;5;28mself\u001b[39m,\n\u001b[32m   (...)\u001b[39m\u001b[32m   5428\u001b[39m     **kwargs: Optional[Any],\n\u001b[32m   5429\u001b[39m ) -> Output:\n\u001b[32m-> \u001b[39m\u001b[32m5430\u001b[39m     \u001b[38;5;28;01mreturn\u001b[39;00m \u001b[38;5;28;43mself\u001b[39;49m\u001b[43m.\u001b[49m\u001b[43mbound\u001b[49m\u001b[43m.\u001b[49m\u001b[43minvoke\u001b[49m\u001b[43m(\u001b[49m\n\u001b[32m   5431\u001b[39m \u001b[43m        \u001b[49m\u001b[38;5;28;43minput\u001b[39;49m\u001b[43m,\u001b[49m\n\u001b[32m   5432\u001b[39m \u001b[43m        \u001b[49m\u001b[38;5;28;43mself\u001b[39;49m\u001b[43m.\u001b[49m\u001b[43m_merge_configs\u001b[49m\u001b[43m(\u001b[49m\u001b[43mconfig\u001b[49m\u001b[43m)\u001b[49m\u001b[43m,\u001b[49m\n\u001b[32m   5433\u001b[39m \u001b[43m        \u001b[49m\u001b[43m*\u001b[49m\u001b[43m*\u001b[49m\u001b[43m{\u001b[49m\u001b[43m*\u001b[49m\u001b[43m*\u001b[49m\u001b[38;5;28;43mself\u001b[39;49m\u001b[43m.\u001b[49m\u001b[43mkwargs\u001b[49m\u001b[43m,\u001b[49m\u001b[43m \u001b[49m\u001b[43m*\u001b[49m\u001b[43m*\u001b[49m\u001b[43mkwargs\u001b[49m\u001b[43m}\u001b[49m\u001b[43m,\u001b[49m\n\u001b[32m   5434\u001b[39m \u001b[43m    \u001b[49m\u001b[43m)\u001b[49m\n",
      "\u001b[36mFile \u001b[39m\u001b[32mc:\\Users\\Nahid\\OneDrive - Calmi2\\Desktop\\Agentic AI\\venv\\Lib\\site-packages\\langchain_core\\language_models\\chat_models.py:372\u001b[39m, in \u001b[36mBaseChatModel.invoke\u001b[39m\u001b[34m(self, input, config, stop, **kwargs)\u001b[39m\n\u001b[32m    360\u001b[39m \u001b[38;5;129m@override\u001b[39m\n\u001b[32m    361\u001b[39m \u001b[38;5;28;01mdef\u001b[39;00m\u001b[38;5;250m \u001b[39m\u001b[34minvoke\u001b[39m(\n\u001b[32m    362\u001b[39m     \u001b[38;5;28mself\u001b[39m,\n\u001b[32m   (...)\u001b[39m\u001b[32m    367\u001b[39m     **kwargs: Any,\n\u001b[32m    368\u001b[39m ) -> BaseMessage:\n\u001b[32m    369\u001b[39m     config = ensure_config(config)\n\u001b[32m    370\u001b[39m     \u001b[38;5;28;01mreturn\u001b[39;00m cast(\n\u001b[32m    371\u001b[39m         \u001b[33m\"\u001b[39m\u001b[33mChatGeneration\u001b[39m\u001b[33m\"\u001b[39m,\n\u001b[32m--> \u001b[39m\u001b[32m372\u001b[39m         \u001b[38;5;28;43mself\u001b[39;49m\u001b[43m.\u001b[49m\u001b[43mgenerate_prompt\u001b[49m\u001b[43m(\u001b[49m\n\u001b[32m    373\u001b[39m \u001b[43m            \u001b[49m\u001b[43m[\u001b[49m\u001b[38;5;28;43mself\u001b[39;49m\u001b[43m.\u001b[49m\u001b[43m_convert_input\u001b[49m\u001b[43m(\u001b[49m\u001b[38;5;28;43minput\u001b[39;49m\u001b[43m)\u001b[49m\u001b[43m]\u001b[49m\u001b[43m,\u001b[49m\n\u001b[32m    374\u001b[39m \u001b[43m            \u001b[49m\u001b[43mstop\u001b[49m\u001b[43m=\u001b[49m\u001b[43mstop\u001b[49m\u001b[43m,\u001b[49m\n\u001b[32m    375\u001b[39m \u001b[43m            \u001b[49m\u001b[43mcallbacks\u001b[49m\u001b[43m=\u001b[49m\u001b[43mconfig\u001b[49m\u001b[43m.\u001b[49m\u001b[43mget\u001b[49m\u001b[43m(\u001b[49m\u001b[33;43m\"\u001b[39;49m\u001b[33;43mcallbacks\u001b[39;49m\u001b[33;43m\"\u001b[39;49m\u001b[43m)\u001b[49m\u001b[43m,\u001b[49m\n\u001b[32m    376\u001b[39m \u001b[43m            \u001b[49m\u001b[43mtags\u001b[49m\u001b[43m=\u001b[49m\u001b[43mconfig\u001b[49m\u001b[43m.\u001b[49m\u001b[43mget\u001b[49m\u001b[43m(\u001b[49m\u001b[33;43m\"\u001b[39;49m\u001b[33;43mtags\u001b[39;49m\u001b[33;43m\"\u001b[39;49m\u001b[43m)\u001b[49m\u001b[43m,\u001b[49m\n\u001b[32m    377\u001b[39m \u001b[43m            \u001b[49m\u001b[43mmetadata\u001b[49m\u001b[43m=\u001b[49m\u001b[43mconfig\u001b[49m\u001b[43m.\u001b[49m\u001b[43mget\u001b[49m\u001b[43m(\u001b[49m\u001b[33;43m\"\u001b[39;49m\u001b[33;43mmetadata\u001b[39;49m\u001b[33;43m\"\u001b[39;49m\u001b[43m)\u001b[49m\u001b[43m,\u001b[49m\n\u001b[32m    378\u001b[39m \u001b[43m            \u001b[49m\u001b[43mrun_name\u001b[49m\u001b[43m=\u001b[49m\u001b[43mconfig\u001b[49m\u001b[43m.\u001b[49m\u001b[43mget\u001b[49m\u001b[43m(\u001b[49m\u001b[33;43m\"\u001b[39;49m\u001b[33;43mrun_name\u001b[39;49m\u001b[33;43m\"\u001b[39;49m\u001b[43m)\u001b[49m\u001b[43m,\u001b[49m\n\u001b[32m    379\u001b[39m \u001b[43m            \u001b[49m\u001b[43mrun_id\u001b[49m\u001b[43m=\u001b[49m\u001b[43mconfig\u001b[49m\u001b[43m.\u001b[49m\u001b[43mpop\u001b[49m\u001b[43m(\u001b[49m\u001b[33;43m\"\u001b[39;49m\u001b[33;43mrun_id\u001b[39;49m\u001b[33;43m\"\u001b[39;49m\u001b[43m,\u001b[49m\u001b[43m \u001b[49m\u001b[38;5;28;43;01mNone\u001b[39;49;00m\u001b[43m)\u001b[49m\u001b[43m,\u001b[49m\n\u001b[32m    380\u001b[39m \u001b[43m            \u001b[49m\u001b[43m*\u001b[49m\u001b[43m*\u001b[49m\u001b[43mkwargs\u001b[49m\u001b[43m,\u001b[49m\n\u001b[32m    381\u001b[39m \u001b[43m        \u001b[49m\u001b[43m)\u001b[49m.generations[\u001b[32m0\u001b[39m][\u001b[32m0\u001b[39m],\n\u001b[32m    382\u001b[39m     ).message\n",
      "\u001b[36mFile \u001b[39m\u001b[32mc:\\Users\\Nahid\\OneDrive - Calmi2\\Desktop\\Agentic AI\\venv\\Lib\\site-packages\\langchain_core\\language_models\\chat_models.py:957\u001b[39m, in \u001b[36mBaseChatModel.generate_prompt\u001b[39m\u001b[34m(self, prompts, stop, callbacks, **kwargs)\u001b[39m\n\u001b[32m    948\u001b[39m \u001b[38;5;129m@override\u001b[39m\n\u001b[32m    949\u001b[39m \u001b[38;5;28;01mdef\u001b[39;00m\u001b[38;5;250m \u001b[39m\u001b[34mgenerate_prompt\u001b[39m(\n\u001b[32m    950\u001b[39m     \u001b[38;5;28mself\u001b[39m,\n\u001b[32m   (...)\u001b[39m\u001b[32m    954\u001b[39m     **kwargs: Any,\n\u001b[32m    955\u001b[39m ) -> LLMResult:\n\u001b[32m    956\u001b[39m     prompt_messages = [p.to_messages() \u001b[38;5;28;01mfor\u001b[39;00m p \u001b[38;5;129;01min\u001b[39;00m prompts]\n\u001b[32m--> \u001b[39m\u001b[32m957\u001b[39m     \u001b[38;5;28;01mreturn\u001b[39;00m \u001b[38;5;28;43mself\u001b[39;49m\u001b[43m.\u001b[49m\u001b[43mgenerate\u001b[49m\u001b[43m(\u001b[49m\u001b[43mprompt_messages\u001b[49m\u001b[43m,\u001b[49m\u001b[43m \u001b[49m\u001b[43mstop\u001b[49m\u001b[43m=\u001b[49m\u001b[43mstop\u001b[49m\u001b[43m,\u001b[49m\u001b[43m \u001b[49m\u001b[43mcallbacks\u001b[49m\u001b[43m=\u001b[49m\u001b[43mcallbacks\u001b[49m\u001b[43m,\u001b[49m\u001b[43m \u001b[49m\u001b[43m*\u001b[49m\u001b[43m*\u001b[49m\u001b[43mkwargs\u001b[49m\u001b[43m)\u001b[49m\n",
      "\u001b[36mFile \u001b[39m\u001b[32mc:\\Users\\Nahid\\OneDrive - Calmi2\\Desktop\\Agentic AI\\venv\\Lib\\site-packages\\langchain_core\\language_models\\chat_models.py:776\u001b[39m, in \u001b[36mBaseChatModel.generate\u001b[39m\u001b[34m(self, messages, stop, callbacks, tags, metadata, run_name, run_id, **kwargs)\u001b[39m\n\u001b[32m    773\u001b[39m \u001b[38;5;28;01mfor\u001b[39;00m i, m \u001b[38;5;129;01min\u001b[39;00m \u001b[38;5;28menumerate\u001b[39m(input_messages):\n\u001b[32m    774\u001b[39m     \u001b[38;5;28;01mtry\u001b[39;00m:\n\u001b[32m    775\u001b[39m         results.append(\n\u001b[32m--> \u001b[39m\u001b[32m776\u001b[39m             \u001b[38;5;28;43mself\u001b[39;49m\u001b[43m.\u001b[49m\u001b[43m_generate_with_cache\u001b[49m\u001b[43m(\u001b[49m\n\u001b[32m    777\u001b[39m \u001b[43m                \u001b[49m\u001b[43mm\u001b[49m\u001b[43m,\u001b[49m\n\u001b[32m    778\u001b[39m \u001b[43m                \u001b[49m\u001b[43mstop\u001b[49m\u001b[43m=\u001b[49m\u001b[43mstop\u001b[49m\u001b[43m,\u001b[49m\n\u001b[32m    779\u001b[39m \u001b[43m                \u001b[49m\u001b[43mrun_manager\u001b[49m\u001b[43m=\u001b[49m\u001b[43mrun_managers\u001b[49m\u001b[43m[\u001b[49m\u001b[43mi\u001b[49m\u001b[43m]\u001b[49m\u001b[43m \u001b[49m\u001b[38;5;28;43;01mif\u001b[39;49;00m\u001b[43m \u001b[49m\u001b[43mrun_managers\u001b[49m\u001b[43m \u001b[49m\u001b[38;5;28;43;01melse\u001b[39;49;00m\u001b[43m \u001b[49m\u001b[38;5;28;43;01mNone\u001b[39;49;00m\u001b[43m,\u001b[49m\n\u001b[32m    780\u001b[39m \u001b[43m                \u001b[49m\u001b[43m*\u001b[49m\u001b[43m*\u001b[49m\u001b[43mkwargs\u001b[49m\u001b[43m,\u001b[49m\n\u001b[32m    781\u001b[39m \u001b[43m            \u001b[49m\u001b[43m)\u001b[49m\n\u001b[32m    782\u001b[39m         )\n\u001b[32m    783\u001b[39m     \u001b[38;5;28;01mexcept\u001b[39;00m \u001b[38;5;167;01mBaseException\u001b[39;00m \u001b[38;5;28;01mas\u001b[39;00m e:\n\u001b[32m    784\u001b[39m         \u001b[38;5;28;01mif\u001b[39;00m run_managers:\n",
      "\u001b[36mFile \u001b[39m\u001b[32mc:\\Users\\Nahid\\OneDrive - Calmi2\\Desktop\\Agentic AI\\venv\\Lib\\site-packages\\langchain_core\\language_models\\chat_models.py:1022\u001b[39m, in \u001b[36mBaseChatModel._generate_with_cache\u001b[39m\u001b[34m(self, messages, stop, run_manager, **kwargs)\u001b[39m\n\u001b[32m   1020\u001b[39m     result = generate_from_stream(\u001b[38;5;28miter\u001b[39m(chunks))\n\u001b[32m   1021\u001b[39m \u001b[38;5;28;01melif\u001b[39;00m inspect.signature(\u001b[38;5;28mself\u001b[39m._generate).parameters.get(\u001b[33m\"\u001b[39m\u001b[33mrun_manager\u001b[39m\u001b[33m\"\u001b[39m):\n\u001b[32m-> \u001b[39m\u001b[32m1022\u001b[39m     result = \u001b[38;5;28;43mself\u001b[39;49m\u001b[43m.\u001b[49m\u001b[43m_generate\u001b[49m\u001b[43m(\u001b[49m\n\u001b[32m   1023\u001b[39m \u001b[43m        \u001b[49m\u001b[43mmessages\u001b[49m\u001b[43m,\u001b[49m\u001b[43m \u001b[49m\u001b[43mstop\u001b[49m\u001b[43m=\u001b[49m\u001b[43mstop\u001b[49m\u001b[43m,\u001b[49m\u001b[43m \u001b[49m\u001b[43mrun_manager\u001b[49m\u001b[43m=\u001b[49m\u001b[43mrun_manager\u001b[49m\u001b[43m,\u001b[49m\u001b[43m \u001b[49m\u001b[43m*\u001b[49m\u001b[43m*\u001b[49m\u001b[43mkwargs\u001b[49m\n\u001b[32m   1024\u001b[39m \u001b[43m    \u001b[49m\u001b[43m)\u001b[49m\n\u001b[32m   1025\u001b[39m \u001b[38;5;28;01melse\u001b[39;00m:\n\u001b[32m   1026\u001b[39m     result = \u001b[38;5;28mself\u001b[39m._generate(messages, stop=stop, **kwargs)\n",
      "\u001b[36mFile \u001b[39m\u001b[32mc:\\Users\\Nahid\\OneDrive - Calmi2\\Desktop\\Agentic AI\\venv\\Lib\\site-packages\\langchain_groq\\chat_models.py:498\u001b[39m, in \u001b[36mChatGroq._generate\u001b[39m\u001b[34m(self, messages, stop, run_manager, **kwargs)\u001b[39m\n\u001b[32m    493\u001b[39m message_dicts, params = \u001b[38;5;28mself\u001b[39m._create_message_dicts(messages, stop)\n\u001b[32m    494\u001b[39m params = {\n\u001b[32m    495\u001b[39m     **params,\n\u001b[32m    496\u001b[39m     **kwargs,\n\u001b[32m    497\u001b[39m }\n\u001b[32m--> \u001b[39m\u001b[32m498\u001b[39m response = \u001b[38;5;28;43mself\u001b[39;49m\u001b[43m.\u001b[49m\u001b[43mclient\u001b[49m\u001b[43m.\u001b[49m\u001b[43mcreate\u001b[49m\u001b[43m(\u001b[49m\u001b[43mmessages\u001b[49m\u001b[43m=\u001b[49m\u001b[43mmessage_dicts\u001b[49m\u001b[43m,\u001b[49m\u001b[43m \u001b[49m\u001b[43m*\u001b[49m\u001b[43m*\u001b[49m\u001b[43mparams\u001b[49m\u001b[43m)\u001b[49m\n\u001b[32m    499\u001b[39m \u001b[38;5;28;01mreturn\u001b[39;00m \u001b[38;5;28mself\u001b[39m._create_chat_result(response)\n",
      "\u001b[36mFile \u001b[39m\u001b[32mc:\\Users\\Nahid\\OneDrive - Calmi2\\Desktop\\Agentic AI\\venv\\Lib\\site-packages\\groq\\resources\\chat\\completions.py:361\u001b[39m, in \u001b[36mCompletions.create\u001b[39m\u001b[34m(self, messages, model, exclude_domains, frequency_penalty, function_call, functions, include_domains, logit_bias, logprobs, max_completion_tokens, max_tokens, metadata, n, parallel_tool_calls, presence_penalty, reasoning_format, response_format, search_settings, seed, service_tier, stop, store, stream, temperature, tool_choice, tools, top_logprobs, top_p, user, extra_headers, extra_query, extra_body, timeout)\u001b[39m\n\u001b[32m    178\u001b[39m \u001b[38;5;28;01mdef\u001b[39;00m\u001b[38;5;250m \u001b[39m\u001b[34mcreate\u001b[39m(\n\u001b[32m    179\u001b[39m     \u001b[38;5;28mself\u001b[39m,\n\u001b[32m    180\u001b[39m     *,\n\u001b[32m   (...)\u001b[39m\u001b[32m    225\u001b[39m     timeout: \u001b[38;5;28mfloat\u001b[39m | httpx.Timeout | \u001b[38;5;28;01mNone\u001b[39;00m | NotGiven = NOT_GIVEN,\n\u001b[32m    226\u001b[39m ) -> ChatCompletion | Stream[ChatCompletionChunk]:\n\u001b[32m    227\u001b[39m \u001b[38;5;250m    \u001b[39m\u001b[33;03m\"\"\"\u001b[39;00m\n\u001b[32m    228\u001b[39m \u001b[33;03m    Creates a model response for the given chat conversation.\u001b[39;00m\n\u001b[32m    229\u001b[39m \n\u001b[32m   (...)\u001b[39m\u001b[32m    359\u001b[39m \u001b[33;03m      timeout: Override the client-level default timeout for this request, in seconds\u001b[39;00m\n\u001b[32m    360\u001b[39m \u001b[33;03m    \"\"\"\u001b[39;00m\n\u001b[32m--> \u001b[39m\u001b[32m361\u001b[39m     \u001b[38;5;28;01mreturn\u001b[39;00m \u001b[38;5;28;43mself\u001b[39;49m\u001b[43m.\u001b[49m\u001b[43m_post\u001b[49m\u001b[43m(\u001b[49m\n\u001b[32m    362\u001b[39m \u001b[43m        \u001b[49m\u001b[33;43m\"\u001b[39;49m\u001b[33;43m/openai/v1/chat/completions\u001b[39;49m\u001b[33;43m\"\u001b[39;49m\u001b[43m,\u001b[49m\n\u001b[32m    363\u001b[39m \u001b[43m        \u001b[49m\u001b[43mbody\u001b[49m\u001b[43m=\u001b[49m\u001b[43mmaybe_transform\u001b[49m\u001b[43m(\u001b[49m\n\u001b[32m    364\u001b[39m \u001b[43m            \u001b[49m\u001b[43m{\u001b[49m\n\u001b[32m    365\u001b[39m \u001b[43m                \u001b[49m\u001b[33;43m\"\u001b[39;49m\u001b[33;43mmessages\u001b[39;49m\u001b[33;43m\"\u001b[39;49m\u001b[43m:\u001b[49m\u001b[43m \u001b[49m\u001b[43mmessages\u001b[49m\u001b[43m,\u001b[49m\n\u001b[32m    366\u001b[39m \u001b[43m                \u001b[49m\u001b[33;43m\"\u001b[39;49m\u001b[33;43mmodel\u001b[39;49m\u001b[33;43m\"\u001b[39;49m\u001b[43m:\u001b[49m\u001b[43m \u001b[49m\u001b[43mmodel\u001b[49m\u001b[43m,\u001b[49m\n\u001b[32m    367\u001b[39m \u001b[43m                \u001b[49m\u001b[33;43m\"\u001b[39;49m\u001b[33;43mexclude_domains\u001b[39;49m\u001b[33;43m\"\u001b[39;49m\u001b[43m:\u001b[49m\u001b[43m \u001b[49m\u001b[43mexclude_domains\u001b[49m\u001b[43m,\u001b[49m\n\u001b[32m    368\u001b[39m \u001b[43m                \u001b[49m\u001b[33;43m\"\u001b[39;49m\u001b[33;43mfrequency_penalty\u001b[39;49m\u001b[33;43m\"\u001b[39;49m\u001b[43m:\u001b[49m\u001b[43m \u001b[49m\u001b[43mfrequency_penalty\u001b[49m\u001b[43m,\u001b[49m\n\u001b[32m    369\u001b[39m \u001b[43m                \u001b[49m\u001b[33;43m\"\u001b[39;49m\u001b[33;43mfunction_call\u001b[39;49m\u001b[33;43m\"\u001b[39;49m\u001b[43m:\u001b[49m\u001b[43m \u001b[49m\u001b[43mfunction_call\u001b[49m\u001b[43m,\u001b[49m\n\u001b[32m    370\u001b[39m \u001b[43m                \u001b[49m\u001b[33;43m\"\u001b[39;49m\u001b[33;43mfunctions\u001b[39;49m\u001b[33;43m\"\u001b[39;49m\u001b[43m:\u001b[49m\u001b[43m \u001b[49m\u001b[43mfunctions\u001b[49m\u001b[43m,\u001b[49m\n\u001b[32m    371\u001b[39m \u001b[43m                \u001b[49m\u001b[33;43m\"\u001b[39;49m\u001b[33;43minclude_domains\u001b[39;49m\u001b[33;43m\"\u001b[39;49m\u001b[43m:\u001b[49m\u001b[43m \u001b[49m\u001b[43minclude_domains\u001b[49m\u001b[43m,\u001b[49m\n\u001b[32m    372\u001b[39m \u001b[43m                \u001b[49m\u001b[33;43m\"\u001b[39;49m\u001b[33;43mlogit_bias\u001b[39;49m\u001b[33;43m\"\u001b[39;49m\u001b[43m:\u001b[49m\u001b[43m \u001b[49m\u001b[43mlogit_bias\u001b[49m\u001b[43m,\u001b[49m\n\u001b[32m    373\u001b[39m \u001b[43m                \u001b[49m\u001b[33;43m\"\u001b[39;49m\u001b[33;43mlogprobs\u001b[39;49m\u001b[33;43m\"\u001b[39;49m\u001b[43m:\u001b[49m\u001b[43m \u001b[49m\u001b[43mlogprobs\u001b[49m\u001b[43m,\u001b[49m\n\u001b[32m    374\u001b[39m \u001b[43m                \u001b[49m\u001b[33;43m\"\u001b[39;49m\u001b[33;43mmax_completion_tokens\u001b[39;49m\u001b[33;43m\"\u001b[39;49m\u001b[43m:\u001b[49m\u001b[43m \u001b[49m\u001b[43mmax_completion_tokens\u001b[49m\u001b[43m,\u001b[49m\n\u001b[32m    375\u001b[39m \u001b[43m                \u001b[49m\u001b[33;43m\"\u001b[39;49m\u001b[33;43mmax_tokens\u001b[39;49m\u001b[33;43m\"\u001b[39;49m\u001b[43m:\u001b[49m\u001b[43m \u001b[49m\u001b[43mmax_tokens\u001b[49m\u001b[43m,\u001b[49m\n\u001b[32m    376\u001b[39m \u001b[43m                \u001b[49m\u001b[33;43m\"\u001b[39;49m\u001b[33;43mmetadata\u001b[39;49m\u001b[33;43m\"\u001b[39;49m\u001b[43m:\u001b[49m\u001b[43m \u001b[49m\u001b[43mmetadata\u001b[49m\u001b[43m,\u001b[49m\n\u001b[32m    377\u001b[39m \u001b[43m                \u001b[49m\u001b[33;43m\"\u001b[39;49m\u001b[33;43mn\u001b[39;49m\u001b[33;43m\"\u001b[39;49m\u001b[43m:\u001b[49m\u001b[43m \u001b[49m\u001b[43mn\u001b[49m\u001b[43m,\u001b[49m\n\u001b[32m    378\u001b[39m \u001b[43m                \u001b[49m\u001b[33;43m\"\u001b[39;49m\u001b[33;43mparallel_tool_calls\u001b[39;49m\u001b[33;43m\"\u001b[39;49m\u001b[43m:\u001b[49m\u001b[43m \u001b[49m\u001b[43mparallel_tool_calls\u001b[49m\u001b[43m,\u001b[49m\n\u001b[32m    379\u001b[39m \u001b[43m                \u001b[49m\u001b[33;43m\"\u001b[39;49m\u001b[33;43mpresence_penalty\u001b[39;49m\u001b[33;43m\"\u001b[39;49m\u001b[43m:\u001b[49m\u001b[43m \u001b[49m\u001b[43mpresence_penalty\u001b[49m\u001b[43m,\u001b[49m\n\u001b[32m    380\u001b[39m \u001b[43m                \u001b[49m\u001b[33;43m\"\u001b[39;49m\u001b[33;43mreasoning_format\u001b[39;49m\u001b[33;43m\"\u001b[39;49m\u001b[43m:\u001b[49m\u001b[43m \u001b[49m\u001b[43mreasoning_format\u001b[49m\u001b[43m,\u001b[49m\n\u001b[32m    381\u001b[39m \u001b[43m                \u001b[49m\u001b[33;43m\"\u001b[39;49m\u001b[33;43mresponse_format\u001b[39;49m\u001b[33;43m\"\u001b[39;49m\u001b[43m:\u001b[49m\u001b[43m \u001b[49m\u001b[43mresponse_format\u001b[49m\u001b[43m,\u001b[49m\n\u001b[32m    382\u001b[39m \u001b[43m                \u001b[49m\u001b[33;43m\"\u001b[39;49m\u001b[33;43msearch_settings\u001b[39;49m\u001b[33;43m\"\u001b[39;49m\u001b[43m:\u001b[49m\u001b[43m \u001b[49m\u001b[43msearch_settings\u001b[49m\u001b[43m,\u001b[49m\n\u001b[32m    383\u001b[39m \u001b[43m                \u001b[49m\u001b[33;43m\"\u001b[39;49m\u001b[33;43mseed\u001b[39;49m\u001b[33;43m\"\u001b[39;49m\u001b[43m:\u001b[49m\u001b[43m \u001b[49m\u001b[43mseed\u001b[49m\u001b[43m,\u001b[49m\n\u001b[32m    384\u001b[39m \u001b[43m                \u001b[49m\u001b[33;43m\"\u001b[39;49m\u001b[33;43mservice_tier\u001b[39;49m\u001b[33;43m\"\u001b[39;49m\u001b[43m:\u001b[49m\u001b[43m \u001b[49m\u001b[43mservice_tier\u001b[49m\u001b[43m,\u001b[49m\n\u001b[32m    385\u001b[39m \u001b[43m                \u001b[49m\u001b[33;43m\"\u001b[39;49m\u001b[33;43mstop\u001b[39;49m\u001b[33;43m\"\u001b[39;49m\u001b[43m:\u001b[49m\u001b[43m \u001b[49m\u001b[43mstop\u001b[49m\u001b[43m,\u001b[49m\n\u001b[32m    386\u001b[39m \u001b[43m                \u001b[49m\u001b[33;43m\"\u001b[39;49m\u001b[33;43mstore\u001b[39;49m\u001b[33;43m\"\u001b[39;49m\u001b[43m:\u001b[49m\u001b[43m \u001b[49m\u001b[43mstore\u001b[49m\u001b[43m,\u001b[49m\n\u001b[32m    387\u001b[39m \u001b[43m                \u001b[49m\u001b[33;43m\"\u001b[39;49m\u001b[33;43mstream\u001b[39;49m\u001b[33;43m\"\u001b[39;49m\u001b[43m:\u001b[49m\u001b[43m \u001b[49m\u001b[43mstream\u001b[49m\u001b[43m,\u001b[49m\n\u001b[32m    388\u001b[39m \u001b[43m                \u001b[49m\u001b[33;43m\"\u001b[39;49m\u001b[33;43mtemperature\u001b[39;49m\u001b[33;43m\"\u001b[39;49m\u001b[43m:\u001b[49m\u001b[43m \u001b[49m\u001b[43mtemperature\u001b[49m\u001b[43m,\u001b[49m\n\u001b[32m    389\u001b[39m \u001b[43m                \u001b[49m\u001b[33;43m\"\u001b[39;49m\u001b[33;43mtool_choice\u001b[39;49m\u001b[33;43m\"\u001b[39;49m\u001b[43m:\u001b[49m\u001b[43m \u001b[49m\u001b[43mtool_choice\u001b[49m\u001b[43m,\u001b[49m\n\u001b[32m    390\u001b[39m \u001b[43m                \u001b[49m\u001b[33;43m\"\u001b[39;49m\u001b[33;43mtools\u001b[39;49m\u001b[33;43m\"\u001b[39;49m\u001b[43m:\u001b[49m\u001b[43m \u001b[49m\u001b[43mtools\u001b[49m\u001b[43m,\u001b[49m\n\u001b[32m    391\u001b[39m \u001b[43m                \u001b[49m\u001b[33;43m\"\u001b[39;49m\u001b[33;43mtop_logprobs\u001b[39;49m\u001b[33;43m\"\u001b[39;49m\u001b[43m:\u001b[49m\u001b[43m \u001b[49m\u001b[43mtop_logprobs\u001b[49m\u001b[43m,\u001b[49m\n\u001b[32m    392\u001b[39m \u001b[43m                \u001b[49m\u001b[33;43m\"\u001b[39;49m\u001b[33;43mtop_p\u001b[39;49m\u001b[33;43m\"\u001b[39;49m\u001b[43m:\u001b[49m\u001b[43m \u001b[49m\u001b[43mtop_p\u001b[49m\u001b[43m,\u001b[49m\n\u001b[32m    393\u001b[39m \u001b[43m                \u001b[49m\u001b[33;43m\"\u001b[39;49m\u001b[33;43muser\u001b[39;49m\u001b[33;43m\"\u001b[39;49m\u001b[43m:\u001b[49m\u001b[43m \u001b[49m\u001b[43muser\u001b[49m\u001b[43m,\u001b[49m\n\u001b[32m    394\u001b[39m \u001b[43m            \u001b[49m\u001b[43m}\u001b[49m\u001b[43m,\u001b[49m\n\u001b[32m    395\u001b[39m \u001b[43m            \u001b[49m\u001b[43mcompletion_create_params\u001b[49m\u001b[43m.\u001b[49m\u001b[43mCompletionCreateParams\u001b[49m\u001b[43m,\u001b[49m\n\u001b[32m    396\u001b[39m \u001b[43m        \u001b[49m\u001b[43m)\u001b[49m\u001b[43m,\u001b[49m\n\u001b[32m    397\u001b[39m \u001b[43m        \u001b[49m\u001b[43moptions\u001b[49m\u001b[43m=\u001b[49m\u001b[43mmake_request_options\u001b[49m\u001b[43m(\u001b[49m\n\u001b[32m    398\u001b[39m \u001b[43m            \u001b[49m\u001b[43mextra_headers\u001b[49m\u001b[43m=\u001b[49m\u001b[43mextra_headers\u001b[49m\u001b[43m,\u001b[49m\u001b[43m \u001b[49m\u001b[43mextra_query\u001b[49m\u001b[43m=\u001b[49m\u001b[43mextra_query\u001b[49m\u001b[43m,\u001b[49m\u001b[43m \u001b[49m\u001b[43mextra_body\u001b[49m\u001b[43m=\u001b[49m\u001b[43mextra_body\u001b[49m\u001b[43m,\u001b[49m\u001b[43m \u001b[49m\u001b[43mtimeout\u001b[49m\u001b[43m=\u001b[49m\u001b[43mtimeout\u001b[49m\n\u001b[32m    399\u001b[39m \u001b[43m        \u001b[49m\u001b[43m)\u001b[49m\u001b[43m,\u001b[49m\n\u001b[32m    400\u001b[39m \u001b[43m        \u001b[49m\u001b[43mcast_to\u001b[49m\u001b[43m=\u001b[49m\u001b[43mChatCompletion\u001b[49m\u001b[43m,\u001b[49m\n\u001b[32m    401\u001b[39m \u001b[43m        \u001b[49m\u001b[43mstream\u001b[49m\u001b[43m=\u001b[49m\u001b[43mstream\u001b[49m\u001b[43m \u001b[49m\u001b[38;5;129;43;01mor\u001b[39;49;00m\u001b[43m \u001b[49m\u001b[38;5;28;43;01mFalse\u001b[39;49;00m\u001b[43m,\u001b[49m\n\u001b[32m    402\u001b[39m \u001b[43m        \u001b[49m\u001b[43mstream_cls\u001b[49m\u001b[43m=\u001b[49m\u001b[43mStream\u001b[49m\u001b[43m[\u001b[49m\u001b[43mChatCompletionChunk\u001b[49m\u001b[43m]\u001b[49m\u001b[43m,\u001b[49m\n\u001b[32m    403\u001b[39m \u001b[43m    \u001b[49m\u001b[43m)\u001b[49m\n",
      "\u001b[36mFile \u001b[39m\u001b[32mc:\\Users\\Nahid\\OneDrive - Calmi2\\Desktop\\Agentic AI\\venv\\Lib\\site-packages\\groq\\_base_client.py:1222\u001b[39m, in \u001b[36mSyncAPIClient.post\u001b[39m\u001b[34m(self, path, cast_to, body, options, files, stream, stream_cls)\u001b[39m\n\u001b[32m   1208\u001b[39m \u001b[38;5;28;01mdef\u001b[39;00m\u001b[38;5;250m \u001b[39m\u001b[34mpost\u001b[39m(\n\u001b[32m   1209\u001b[39m     \u001b[38;5;28mself\u001b[39m,\n\u001b[32m   1210\u001b[39m     path: \u001b[38;5;28mstr\u001b[39m,\n\u001b[32m   (...)\u001b[39m\u001b[32m   1217\u001b[39m     stream_cls: \u001b[38;5;28mtype\u001b[39m[_StreamT] | \u001b[38;5;28;01mNone\u001b[39;00m = \u001b[38;5;28;01mNone\u001b[39;00m,\n\u001b[32m   1218\u001b[39m ) -> ResponseT | _StreamT:\n\u001b[32m   1219\u001b[39m     opts = FinalRequestOptions.construct(\n\u001b[32m   1220\u001b[39m         method=\u001b[33m\"\u001b[39m\u001b[33mpost\u001b[39m\u001b[33m\"\u001b[39m, url=path, json_data=body, files=to_httpx_files(files), **options\n\u001b[32m   1221\u001b[39m     )\n\u001b[32m-> \u001b[39m\u001b[32m1222\u001b[39m     \u001b[38;5;28;01mreturn\u001b[39;00m cast(ResponseT, \u001b[38;5;28;43mself\u001b[39;49m\u001b[43m.\u001b[49m\u001b[43mrequest\u001b[49m\u001b[43m(\u001b[49m\u001b[43mcast_to\u001b[49m\u001b[43m,\u001b[49m\u001b[43m \u001b[49m\u001b[43mopts\u001b[49m\u001b[43m,\u001b[49m\u001b[43m \u001b[49m\u001b[43mstream\u001b[49m\u001b[43m=\u001b[49m\u001b[43mstream\u001b[49m\u001b[43m,\u001b[49m\u001b[43m \u001b[49m\u001b[43mstream_cls\u001b[49m\u001b[43m=\u001b[49m\u001b[43mstream_cls\u001b[49m\u001b[43m)\u001b[49m)\n",
      "\u001b[36mFile \u001b[39m\u001b[32mc:\\Users\\Nahid\\OneDrive - Calmi2\\Desktop\\Agentic AI\\venv\\Lib\\site-packages\\groq\\_base_client.py:1031\u001b[39m, in \u001b[36mSyncAPIClient.request\u001b[39m\u001b[34m(self, cast_to, options, stream, stream_cls)\u001b[39m\n\u001b[32m   1028\u001b[39m             err.response.read()\n\u001b[32m   1030\u001b[39m         log.debug(\u001b[33m\"\u001b[39m\u001b[33mRe-raising status error\u001b[39m\u001b[33m\"\u001b[39m)\n\u001b[32m-> \u001b[39m\u001b[32m1031\u001b[39m         \u001b[38;5;28;01mraise\u001b[39;00m \u001b[38;5;28mself\u001b[39m._make_status_error_from_response(err.response) \u001b[38;5;28;01mfrom\u001b[39;00m\u001b[38;5;250m \u001b[39m\u001b[38;5;28;01mNone\u001b[39;00m\n\u001b[32m   1033\u001b[39m     \u001b[38;5;28;01mbreak\u001b[39;00m\n\u001b[32m   1035\u001b[39m \u001b[38;5;28;01massert\u001b[39;00m response \u001b[38;5;129;01mis\u001b[39;00m \u001b[38;5;129;01mnot\u001b[39;00m \u001b[38;5;28;01mNone\u001b[39;00m, \u001b[33m\"\u001b[39m\u001b[33mcould not resolve response (should never happen)\u001b[39m\u001b[33m\"\u001b[39m\n",
      "\u001b[31mBadRequestError\u001b[39m: Error code: 400 - {'error': {'message': \"Failed to call a function. Please adjust your prompt. See 'failed_generation' for more details.\", 'type': 'invalid_request_error', 'code': 'tool_use_failed', 'failed_generation': ''}}",
      "During task with name 'supervisor' and id '13ac15fc-7a2b-b332-3114-9f5cf073f87e'"
     ]
    }
   ],
   "source": [
    "result=app.invoke({\"messages\": [(\"user\", \"what is an efficent python code to get prime number?\")]}, subgraphs=True)"
   ]
  },
  {
   "cell_type": "code",
   "execution_count": 25,
   "id": "6422f157",
   "metadata": {},
   "outputs": [],
   "source": [
    "result=app.ainvoke({\"messages\": [(\"user\", \"what is an efficent python code to get prime number?\")]}, subgraphs=True)"
   ]
  },
  {
   "cell_type": "code",
   "execution_count": null,
   "id": "2251b2ac",
   "metadata": {},
   "outputs": [],
   "source": []
  }
 ],
 "metadata": {
  "kernelspec": {
   "display_name": "Python 3",
   "language": "python",
   "name": "python3"
  },
  "language_info": {
   "codemirror_mode": {
    "name": "ipython",
    "version": 3
   },
   "file_extension": ".py",
   "mimetype": "text/x-python",
   "name": "python",
   "nbconvert_exporter": "python",
   "pygments_lexer": "ipython3",
   "version": "3.12.0"
  }
 },
 "nbformat": 4,
 "nbformat_minor": 5
}
